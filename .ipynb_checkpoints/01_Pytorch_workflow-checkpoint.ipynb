{
 "cells": [
  {
   "cell_type": "markdown",
   "id": "f308d0d4-8e62-4ff4-9f70-8d1c87994261",
   "metadata": {},
   "source": [
    "## PyTorch Workflow\n",
    "\n",
    "Let's explore an example PyTorch end-to-end workflow.\n",
    "Resources:\n",
    "- Groud truth notebook - https://github.com/mrdbourke/pytorch-deep-learning\n",
    "- Book version of notebook - https://www.learnpytorch.io/01_pytorch_workflow/\n"
   ]
  },
  {
   "cell_type": "code",
   "execution_count": 111,
   "id": "65f39108-0d19-4b6d-8ea2-153432da500f",
   "metadata": {},
   "outputs": [
    {
     "data": {
      "text/plain": [
       "{1: 'data (prepare and load)',\n",
       " 2: 'build model',\n",
       " 3: 'fitting the model to data (training)',\n",
       " 4: 'making predictions and evaluating a model (inference)',\n",
       " 5: 'saving and loading a model',\n",
       " 6: 'putting it all together'}"
      ]
     },
     "execution_count": 111,
     "metadata": {},
     "output_type": "execute_result"
    }
   ],
   "source": [
    "what_were_covering = {1: 'data (prepare and load)',\n",
    "                      2: 'build model',\n",
    "                      3: 'fitting the model to data (training)',\n",
    "                      4: 'making predictions and evaluating a model (inference)',\n",
    "                      5: 'saving and loading a model',\n",
    "                      6: 'putting it all together'}\n",
    "what_were_covering"
   ]
  },
  {
   "cell_type": "code",
   "execution_count": 112,
   "id": "f701e9bd-63f0-415e-980d-f172551a8527",
   "metadata": {},
   "outputs": [
    {
     "data": {
      "text/plain": [
       "'2.5.1'"
      ]
     },
     "execution_count": 112,
     "metadata": {},
     "output_type": "execute_result"
    }
   ],
   "source": [
    "import torch \n",
    "from torch import nn # nn contains all of PyTorch's building blocks for neural networks\n",
    "import matplotlib.pyplot as plt # visualize, visualize, visualize\n",
    "\n",
    "# check PyTorch version\n",
    "torch.__version__"
   ]
  },
  {
   "cell_type": "markdown",
   "id": "599623de-8cc7-4850-80f5-1b0a67efdd6a",
   "metadata": {},
   "source": [
    "### 1. Data (preparing and Loading)\n",
    "\n",
    "Data can be almost anything... in machine learning.\n",
    "* Excel spreadsheet\n",
    "* Images of any kind\n",
    "* Videos (YouTube has lots of data....)\n",
    "* Audio like songs or podcasts\n",
    "* DNA\n",
    "* Text\n",
    "\n",
    "Machine learning is a game of two parts:\n",
    "1. Get data into a numerical representation.\n",
    "2. Build a model to learn patterns in that numerical representation.\n",
    "\n",
    "To showcase this, let's create some *Known* data using Linear Regression formula.\n",
    "\n",
    "We'll use a linear regression formula to make a straight line with *Known* **parameters**."
   ]
  },
  {
   "cell_type": "code",
   "execution_count": 113,
   "id": "907d9a60-8534-4457-a292-57fc70e1ae3f",
   "metadata": {},
   "outputs": [
    {
     "data": {
      "text/plain": [
       "(tensor([[0.0000],\n",
       "         [0.0200],\n",
       "         [0.0400],\n",
       "         [0.0600],\n",
       "         [0.0800],\n",
       "         [0.1000],\n",
       "         [0.1200],\n",
       "         [0.1400],\n",
       "         [0.1600],\n",
       "         [0.1800]]),\n",
       " tensor([[0.3000],\n",
       "         [0.3140],\n",
       "         [0.3280],\n",
       "         [0.3420],\n",
       "         [0.3560],\n",
       "         [0.3700],\n",
       "         [0.3840],\n",
       "         [0.3980],\n",
       "         [0.4120],\n",
       "         [0.4260]]))"
      ]
     },
     "execution_count": 113,
     "metadata": {},
     "output_type": "execute_result"
    }
   ],
   "source": [
    "# Create *known* parameters\n",
    "weight = 0.7\n",
    "bias = 0.3\n",
    "\n",
    "# Create data\n",
    "start = 0\n",
    "end = 1\n",
    "step = 0.02\n",
    "X = torch.arange(start, end, step).unsqueeze(dim=1)\n",
    "y = weight * X + bias\n",
    "\n",
    "X[:10], y[:10]"
   ]
  },
  {
   "cell_type": "code",
   "execution_count": 114,
   "id": "93bb32e2-1517-4335-8b24-2d09877a3131",
   "metadata": {},
   "outputs": [
    {
     "data": {
      "text/plain": [
       "(50, 50)"
      ]
     },
     "execution_count": 114,
     "metadata": {},
     "output_type": "execute_result"
    }
   ],
   "source": [
    "len(X), len(y)"
   ]
  },
  {
   "cell_type": "markdown",
   "id": "e50275fc-4f46-446c-8a5d-61424f5f564d",
   "metadata": {},
   "source": [
    "#### Splitting data into training and test sets (one of the most important concepts in machine learning in general)\n",
    "\n",
    "Let's create a training and test set with our data."
   ]
  },
  {
   "cell_type": "code",
   "execution_count": 115,
   "id": "fa03197e-898b-4b86-bac6-cb583705f3aa",
   "metadata": {},
   "outputs": [
    {
     "data": {
      "text/plain": [
       "(40, 40, 10, 10)"
      ]
     },
     "execution_count": 115,
     "metadata": {},
     "output_type": "execute_result"
    }
   ],
   "source": [
    "# Create a train/test split \n",
    "train_split = int(0.8 * len(X)) \n",
    "X_train, y_train = X[:train_split], y[:train_split]\n",
    "X_test, y_test = X[train_split:], y[train_split:]\n",
    "len(X_train), len(y_train), len(X_test), len(y_test)"
   ]
  },
  {
   "cell_type": "markdown",
   "id": "0a207957-9043-4a0e-9baf-1721addf6d64",
   "metadata": {},
   "source": [
    "How might we better visualize our data? \n",
    "\n",
    "This is where the data explorer's motto comes in!\n",
    "\n",
    "'Visualize, Visualize, Visualize'"
   ]
  },
  {
   "cell_type": "code",
   "execution_count": 461,
   "id": "9acccdb0-5ad3-4319-8c5d-f346a23d7633",
   "metadata": {},
   "outputs": [],
   "source": [
    "def plot_predictions(train_data=X_train,\n",
    "                    train_labels=y_train,\n",
    "                    test_data=X_test,\n",
    "                    test_labels=y_test,\n",
    "                    predictions=None):\n",
    "    \"\"\"\n",
    "    Plots training data, test data and compared predictions.\n",
    "    \"\"\"\n",
    "    plt.figure(figsize=(10, 6))\n",
    "\n",
    "    # Plot training data in blue \n",
    "    plt.scatter(train_data, train_labels, c='b', s=6, label='Training data')\n",
    "\n",
    "    # Plot test data in green\n",
    "    plt.scatter(test_data, test_labels, c='g', s=6, label='Testing data')\n",
    "\n",
    "    # Are there any predictions?\n",
    "    if predictions is not None:\n",
    "        # Plot the predictions if they exist\n",
    "        plt.scatter(test_data, predictions, c='r', s=6, label='Predictions')\n",
    "\n",
    "    # Show the legend\n",
    "    plt.legend(prop={'size': 14});\n",
    "    "
   ]
  },
  {
   "cell_type": "code",
   "execution_count": 117,
   "id": "9ed5fe37-fede-4e2d-b890-ea26c20aad02",
   "metadata": {},
   "outputs": [
    {
     "data": {
      "image/png": "[encoded data removed]",
      "text/plain": [
       "<Figure size 1000x700 with 1 Axes>"
      ]
     },
     "metadata": {},
     "output_type": "display_data"
    }
   ],
   "source": [
    "plot_predictions()"
   ]
  },
  {
   "cell_type": "markdown",
   "id": "664f3c07-829c-425a-82bf-aebab27870ba",
   "metadata": {},
   "source": [
    "### 2. Build model\n",
    "\n",
    "Our first PyTorch model!\n",
    "\n",
    "This is very exciting...let's do it!\n",
    "\n",
    "What our model does:\n",
    "* Start with random values (weight and bias)\n",
    "* Look at training data and adjust the random values to better represent (or get closer to) the ideal values (the weight and bias values we used to create the data)\n",
    "\n",
    "How does it do so?\n",
    "\n",
    "Through two main algorithms:\n",
    "1. Gradient Descent\n",
    "2. Backpropogation"
   ]
  },
  {
   "cell_type": "code",
   "execution_count": 118,
   "id": "4a330969-4c7c-4ec9-8fa7-703235550983",
   "metadata": {},
   "outputs": [],
   "source": [
    "# Create linear regression model class \n",
    "class LinearRegressionModel(nn.Module): # <- almost everything in PyTorch inherits from nn.Module ->\n",
    "    def __init__(self):\n",
    "        super().__init__()\n",
    "        self.weights = nn.Parameter(torch.randn(1, \n",
    "                                                requires_grad=True, # can this parameter to updated via gradient descent\n",
    "                                                dtype=torch.float) # Pytorch loves the data type torch.float32\n",
    "                                   )\n",
    "        self.bias = nn.Parameter(torch.randn(1,\n",
    "                                            requires_grad=True,\n",
    "                                            dtype=torch.float))\n",
    "\n",
    "    # Forward method to define the computation in the model\n",
    "    def forward(self, x: torch.Tensor) -> torch.Tensor: # <- 'x' is the input data\n",
    "        return self.weights * x + self.bias # Linear regression formula"
   ]
  },
  {
   "cell_type": "markdown",
   "id": "ef1f60f1-c390-47f3-ba8b-2f9685baeba4",
   "metadata": {},
   "source": [
    "#### PyTorch model Building essentials\n",
    "\n",
    "* torch.nn - contains all of the building blocks for computational graphs (a neural network can be considered as computation graph)\n",
    "* torch.nn.Parameters - What parameters should our model try and learn, often a PyTorch layer from torch.nn will set these for us.\n",
    "* torch.nn.Module - The base class for all neural nets modules, if you subclass it , you should override the forward method.\n",
    "* torch.optim - this is where the optimizers in PyTorch live, they will help with gradient descent.\n",
    "* def forward() - All nn.Module subclasses require you to override forward(), this method defines what happens in the forward computation.\n",
    "                                                                                                                          "
   ]
  },
  {
   "cell_type": "markdown",
   "id": "1bb4ea49-3631-4827-9e51-a701de8f2523",
   "metadata": {},
   "source": [
    "#### Checking the contents of our PyTorch model \n",
    "\n",
    "Now we've created a model, let's see what's inside...\n",
    "\n",
    "So we can check our model params or what's inside our model using `.parameters()`."
   ]
  },
  {
   "cell_type": "code",
   "execution_count": 444,
   "id": "a0dea5fe-aa9d-4c68-b8c9-dc9bcda449b0",
   "metadata": {},
   "outputs": [
    {
     "data": {
      "text/plain": [
       "[Parameter containing:\n",
       " tensor([0.3367], requires_grad=True),\n",
       " Parameter containing:\n",
       " tensor([0.1288], requires_grad=True)]"
      ]
     },
     "execution_count": 444,
     "metadata": {},
     "output_type": "execute_result"
    }
   ],
   "source": [
    "# Create a random seed - for reproducibility\n",
    "torch.manual_seed(42)\n",
    "\n",
    "# Create an instance of the model (this is a subcclass of nn.Module)\n",
    "model_0 = LinearRegressionModel()\n",
    "\n",
    "# Check out the parameters \n",
    "list(model_0.parameters())"
   ]
  },
  {
   "cell_type": "code",
   "execution_count": 445,
   "id": "f5ee83f4-df1b-4008-a7e2-374cb8cc636d",
   "metadata": {},
   "outputs": [
    {
     "data": {
      "text/plain": [
       "OrderedDict([('weights', tensor([0.3367])), ('bias', tensor([0.1288]))])"
      ]
     },
     "execution_count": 445,
     "metadata": {},
     "output_type": "execute_result"
    }
   ],
   "source": [
    "# List named parameters\n",
    "model_0.state_dict()"
   ]
  },
  {
   "cell_type": "markdown",
   "id": "0c600fbd-f9e0-4859-b850-aa8c0d830471",
   "metadata": {},
   "source": [
    "#### Making prediction using `torch.inference_mode()`\n",
    "\n",
    "To check out model's predictive power, let's see how well in predicts `y_test` based on `X_test`.\n",
    "\n",
    "When we pass data through our model, it's going to run it through the `forward()` method"
   ]
  },
  {
   "cell_type": "code",
   "execution_count": 446,
   "id": "210e0005-0771-4147-8c90-149d82fe90f2",
   "metadata": {},
   "outputs": [
    {
     "data": {
      "text/plain": [
       "(tensor([[0.3982],\n",
       "         [0.4049]]),\n",
       " tensor([[0.8600],\n",
       "         [0.8740]]))"
      ]
     },
     "execution_count": 446,
     "metadata": {},
     "output_type": "execute_result"
    }
   ],
   "source": [
    "# Make predictions with model \n",
    "with torch.inference_mode(): \n",
    "    y_preds = model_0(X_test)\n",
    "\n",
    "# You can also do something similar with torch.no_grad(), however inference_mode is preferred\n",
    "# with torch.no_grad():\n",
    "#     y_preds = model_0(X_test)\n",
    "\n",
    "y_preds[:2], y_test[:2] # Way far from each other."
   ]
  },
  {
   "cell_type": "code",
   "execution_count": 447,
   "id": "63887701-5f3c-4d9c-8c57-2c89ea54af08",
   "metadata": {},
   "outputs": [
    {
     "data": {
      "image/png": "[encoded data removed]",
      "text/plain": [
       "<Figure size 1000x700 with 1 Axes>"
      ]
     },
     "metadata": {},
     "output_type": "display_data"
    }
   ],
   "source": [
    "plot_predictions(predictions=y_preds)"
   ]
  },
  {
   "cell_type": "markdown",
   "id": "6bc25d4a-0168-4986-b8d1-a74d7744c5c1",
   "metadata": {},
   "source": [
    "### 3. Train model\n",
    "\n",
    "The whole idea of training is for a model to move from some *unknown* parameters (these may be random) to **Known** parameters.\n",
    "\n",
    "Or in other words from a poor representation to the data to a better representation of the data.\n",
    "\n",
    "One way to measure how poor or how wrong your model's prediction are is to use `loss functions`\n",
    "\n",
    "* Note: loss function may also be called cost function or criterion in different areas. For our case, we're going to refer to it as loss function.\n",
    "\n",
    "Things we need to train:\n",
    "\n",
    "* **Loss function:** A function to measure how wrong your model's predictions are to the ideal outputs, the lower is the better.\n",
    "\n",
    "* **Optimizer:** Takes into account the loss of a model and adjust the models parameters (e.g. weight and bias) to improve the loss function.\n",
    "\n",
    "And specifically for PyTorch, we need:\n",
    "* A training loop\n",
    "* A testing loop"
   ]
  },
  {
   "cell_type": "code",
   "execution_count": 448,
   "id": "f6e07b84-70b1-418f-891e-ecaf84b34bf8",
   "metadata": {},
   "outputs": [
    {
     "data": {
      "text/plain": [
       "[Parameter containing:\n",
       " tensor([0.3367], requires_grad=True),\n",
       " Parameter containing:\n",
       " tensor([0.1288], requires_grad=True)]"
      ]
     },
     "execution_count": 448,
     "metadata": {},
     "output_type": "execute_result"
    }
   ],
   "source": [
    "list(model_0.parameters())"
   ]
  },
  {
   "cell_type": "code",
   "execution_count": 449,
   "id": "68ece191-f020-411c-b120-52f89bfce117",
   "metadata": {},
   "outputs": [
    {
     "data": {
      "text/plain": [
       "OrderedDict([('weights', tensor([0.3367])), ('bias', tensor([0.1288]))])"
      ]
     },
     "execution_count": 449,
     "metadata": {},
     "output_type": "execute_result"
    }
   ],
   "source": [
    "model_0.state_dict()"
   ]
  },
  {
   "cell_type": "code",
   "execution_count": 450,
   "id": "5402d642-4d91-4a30-a9a5-95facdca0104",
   "metadata": {},
   "outputs": [],
   "source": [
    "from torch.optim.lr_scheduler import StepLR\n",
    "\n",
    "# Setup a loss function\n",
    "loss_fn = nn.L1Loss()\n",
    "\n",
    "# Setup an optimizer (stochastic Gradient Descent)\n",
    "optimizer = torch.optim.SGD(params=model_0.parameters(),\n",
    "                           lr=0.01) # lr = learning rate is possibly the most important hyperparameter you can set\n",
    "\n",
    "\n",
    "# Create scheduler: reduce LR by gamma=0.1 every step_size=50 epochs\n",
    "scheduler = StepLR(optimizer, step_size=170, gamma=0.1)\n"
   ]
  },
  {
   "cell_type": "markdown",
   "id": "36cfe632-8aad-44ef-8e8f-1a4e98bfec57",
   "metadata": {},
   "source": [
    "Q. Which loss function and optimizer should i use?\n",
    "\n",
    "A. This will be Problem specific. But with experience, you'll get an idea of what works and what doesn't with your particular problem set.\n",
    "\n",
    "For example, for a regression problem (like ours), a loss function of `nn.L1Loss()` and an optimizer like `torch.optim.SGD()` will suffice\n",
    "\n",
    "But for a classification problem like classifying whether a photo is of a dog or a cat, you'll likely want to use a loss function of `nn.BCELoss()` (binary cross entropy loss)."
   ]
  },
  {
   "cell_type": "markdown",
   "id": "1c9bbbab-7ff7-47e8-82f9-41eeaeefbb16",
   "metadata": {},
   "source": [
    "#### Building a training loop (and a testing loop) in PyTorch\n",
    "\n",
    "A couple of things we need in a training loop:\n",
    "\n",
    "0. Loop through the data\n",
    "1. Forward pass (this involves data moving through our model's `forward` function(s)) to make predictions on data - also called forward propogation\n",
    "2. Calculate the loss (compare forward pass predictions to ground truth labels)\n",
    "3. Optimizer zero grad\n",
    "4. Loss backward - move backwards through the network to calculate the gradients of each of the parameters of our model with respect to the loss (**backpropogation**)\n",
    "5. Optimizer step - use the optimizer to adjust our model's parameters to try and improve the loss. (**Gradient Descent**)"
   ]
  },
  {
   "cell_type": "code",
   "execution_count": 451,
   "id": "df3cfb3d-4d16-46eb-ad51-73c7e70e7091",
   "metadata": {},
   "outputs": [],
   "source": [
    "from tqdm.auto import tqdm"
   ]
  },
  {
   "cell_type": "code",
   "execution_count": 452,
   "id": "b4c8adbb-1dbf-474c-8ab2-679cf2609a12",
   "metadata": {},
   "outputs": [],
   "source": [
    "# Store losses for plotting\n",
    "epoch_counts = []\n",
    "train_losses = []\n",
    "test_losses = []"
   ]
  },
  {
   "cell_type": "code",
   "execution_count": 453,
   "id": "34aeb9eb-9794-43fa-9bb4-9a2406a5c4ed",
   "metadata": {
    "collapsed": true,
    "jupyter": {
     "outputs_hidden": true
    },
    "scrolled": true
   },
   "outputs": [
    {
     "data": {
      "application/vnd.jupyter.widget-view+json": {
       "model_id": "af1772980e2047229f78c70c9c82a8a9",
       "version_major": 2,
       "version_minor": 0
      },
      "text/plain": [
       "Training Progress:   0%|          | 0/200 [00:00<?, ?it/s]"
      ]
     },
     "metadata": {},
     "output_type": "display_data"
    },
    {
     "name": "stdout",
     "output_type": "stream",
     "text": [
      "\n",
      "Epoch: 0 | Loss: 0.3129 | Test Loss: 0.4811 | LR: 0.01000\n",
      "weight: tensor([0.3406]) | bias: tensor([0.1388])\n",
      "\n",
      "Epoch: 10 | Loss: 0.1977 | Test Loss: 0.3464 | LR: 0.01000\n",
      "weight: tensor([0.3796]) | bias: tensor([0.2388])\n",
      "\n",
      "Epoch: 20 | Loss: 0.0891 | Test Loss: 0.2173 | LR: 0.01000\n",
      "weight: tensor([0.4184]) | bias: tensor([0.3333])\n",
      "\n",
      "Epoch: 30 | Loss: 0.0531 | Test Loss: 0.1446 | LR: 0.01000\n",
      "weight: tensor([0.4512]) | bias: tensor([0.3768])\n",
      "\n",
      "Epoch: 40 | Loss: 0.0454 | Test Loss: 0.1136 | LR: 0.01000\n",
      "weight: tensor([0.4748]) | bias: tensor([0.3868])\n",
      "\n",
      "Epoch: 50 | Loss: 0.0417 | Test Loss: 0.0992 | LR: 0.01000\n",
      "weight: tensor([0.4938]) | bias: tensor([0.3843])\n",
      "\n",
      "Epoch: 60 | Loss: 0.0382 | Test Loss: 0.0889 | LR: 0.01000\n",
      "weight: tensor([0.5116]) | bias: tensor([0.3788])\n",
      "\n",
      "Epoch: 70 | Loss: 0.0348 | Test Loss: 0.0806 | LR: 0.01000\n",
      "weight: tensor([0.5288]) | bias: tensor([0.3718])\n",
      "\n",
      "Epoch: 80 | Loss: 0.0313 | Test Loss: 0.0723 | LR: 0.01000\n",
      "weight: tensor([0.5459]) | bias: tensor([0.3648])\n",
      "\n",
      "Epoch: 90 | Loss: 0.0279 | Test Loss: 0.0647 | LR: 0.01000\n",
      "weight: tensor([0.5629]) | bias: tensor([0.3573])\n",
      "\n",
      "Epoch: 100 | Loss: 0.0245 | Test Loss: 0.0565 | LR: 0.01000\n",
      "weight: tensor([0.5800]) | bias: tensor([0.3503])\n",
      "\n",
      "Epoch: 110 | Loss: 0.0210 | Test Loss: 0.0482 | LR: 0.01000\n",
      "weight: tensor([0.5972]) | bias: tensor([0.3433])\n",
      "\n",
      "Epoch: 120 | Loss: 0.0176 | Test Loss: 0.0406 | LR: 0.01000\n",
      "weight: tensor([0.6141]) | bias: tensor([0.3358])\n",
      "\n",
      "Epoch: 130 | Loss: 0.0142 | Test Loss: 0.0323 | LR: 0.01000\n",
      "weight: tensor([0.6313]) | bias: tensor([0.3288])\n",
      "\n",
      "Epoch: 140 | Loss: 0.0107 | Test Loss: 0.0241 | LR: 0.01000\n",
      "weight: tensor([0.6485]) | bias: tensor([0.3218])\n",
      "\n",
      "Epoch: 150 | Loss: 0.0073 | Test Loss: 0.0165 | LR: 0.01000\n",
      "weight: tensor([0.6654]) | bias: tensor([0.3143])\n",
      "\n",
      "Epoch: 160 | Loss: 0.0039 | Test Loss: 0.0082 | LR: 0.01000\n",
      "weight: tensor([0.6826]) | bias: tensor([0.3073])\n",
      "\n",
      "Epoch: 170 | Loss: 0.0089 | Test Loss: 0.0071 | LR: 0.00100\n",
      "weight: tensor([0.6986]) | bias: tensor([0.3083])\n",
      "\n",
      "Epoch: 180 | Loss: 0.0007 | Test Loss: 0.0016 | LR: 0.00100\n",
      "weight: tensor([0.6967]) | bias: tensor([0.3014])\n",
      "\n",
      "Epoch: 190 | Loss: 0.0004 | Test Loss: 0.0008 | LR: 0.00100\n",
      "weight: tensor([0.6984]) | bias: tensor([0.3007])\n"
     ]
    }
   ],
   "source": [
    "# Reproducibility\n",
    "torch.manual_seed(42)\n",
    "\n",
    "# Number of epochs (a loop through the full dataset)\n",
    "epochs = 200\n",
    "\n",
    "### Training\n",
    "# 0. Loop through the data \n",
    "for epoch in tqdm(range(epochs), desc=\"Training Progress\"):\n",
    "    # Set the model to training mode\n",
    "    model_0.train() # train mode in PyTorch sets all parameters that require gradients to require gradients\n",
    "\n",
    "    # 1. Forward pass \n",
    "    y_pred = model_0(X_train)\n",
    "\n",
    "    # 2. Calculate the loss\n",
    "    loss = loss_fn(y_pred, y_train)\n",
    "    train_losses.append(loss.item())\n",
    "    epoch_counts.append(epoch+1)\n",
    "\n",
    "    # 3. Optimizer zero grad\n",
    "    optimizer.zero_grad()\n",
    "\n",
    "    # 4. Perform backpropogation on the loss wrt parameters of the model\n",
    "    loss.backward()\n",
    "\n",
    "    # 5. Step by optimizer - perform gradient descent\n",
    "    optimizer.step() # by default how the optimizer changes will accumulate through the loop so... we have to zero them above in step 3 for the next iteration in the loop.\n",
    "\n",
    "    # Learning rate scheduler\n",
    "    scheduler.step()\n",
    "\n",
    "    ### Testing\n",
    "    model_0.eval() # turns off different settings in the model not needed for evaluation/testing (dropout/batchnorm).\n",
    "\n",
    "    with torch.inference_mode(): # turns off gradient tracking and a couple more things behind the scenes not needed\n",
    "        # 1. Do the forward pass in testing mode \n",
    "        test_pred = model_0(X_test)\n",
    "\n",
    "        # 2. Calculate the loss\n",
    "        test_loss = loss_fn(test_pred, y_test)\n",
    "        test_losses.append(test_loss.item())\n",
    "    \n",
    "    # print out what's happening\n",
    "    if epoch % 10 == 0:\n",
    "        print(f\"\\nEpoch: {epoch} | Loss: {loss.item():.4f} | Test Loss: {test_loss.item():.4f} | LR: {optimizer.param_groups[0]['lr']:.5f}\")\n",
    "        # Print out model state_dict()\n",
    "        print(f\"weight: {model_0.state_dict()['weights']} | bias: {model_0.state_dict()['bias']}\")\n"
   ]
  },
  {
   "cell_type": "code",
   "execution_count": 454,
   "id": "740e70af-555c-44b8-90cd-d45f53556751",
   "metadata": {},
   "outputs": [],
   "source": [
    "with torch.inference_mode():\n",
    "    y_preds_new = model_0(X_test)"
   ]
  },
  {
   "cell_type": "code",
   "execution_count": 455,
   "id": "c86f9b77-d6f0-47a3-b2f7-4f9c20ef7493",
   "metadata": {},
   "outputs": [
    {
     "data": {
      "text/plain": [
       "OrderedDict([('weights', tensor([0.6991])), ('bias', tensor([0.2995]))])"
      ]
     },
     "execution_count": 455,
     "metadata": {},
     "output_type": "execute_result"
    }
   ],
   "source": [
    "model_0.state_dict()"
   ]
  },
  {
   "cell_type": "code",
   "execution_count": 456,
   "id": "8e530c91-e8d1-41c6-9032-3b54cd5f12c4",
   "metadata": {},
   "outputs": [
    {
     "data": {
      "text/plain": [
       "(0.7, 0.3)"
      ]
     },
     "execution_count": 456,
     "metadata": {},
     "output_type": "execute_result"
    }
   ],
   "source": [
    "weight, bias"
   ]
  },
  {
   "cell_type": "code",
   "execution_count": 462,
   "id": "75a1cbd6-271a-41b5-9c1c-c2d6bcf30bff",
   "metadata": {},
   "outputs": [
    {
     "data": {
      "image/png": "[encoded data removed]",
      "text/plain": [
       "<Figure size 1000x600 with 1 Axes>"
      ]
     },
     "metadata": {},
     "output_type": "display_data"
    }
   ],
   "source": [
    "# previous predictions\n",
    "plot_predictions(predictions=y_preds)"
   ]
  },
  {
   "cell_type": "code",
   "execution_count": 463,
   "id": "88989939-d62c-4578-8942-521dd502d3b7",
   "metadata": {},
   "outputs": [
    {
     "data": {
      "image/png": "[encoded data removed]",
      "text/plain": [
       "<Figure size 1000x600 with 1 Axes>"
      ]
     },
     "metadata": {},
     "output_type": "display_data"
    }
   ],
   "source": [
    "# Current prediction after few epochs\n",
    "plot_predictions(predictions=y_preds_new)"
   ]
  },
  {
   "cell_type": "markdown",
   "id": "d67ff01e-de50-40e9-9107-f4dc8a6af2f2",
   "metadata": {},
   "source": [
    "**Wow we are soo closer to the real truth**"
   ]
  },
  {
   "cell_type": "code",
   "execution_count": 460,
   "id": "69e56107-d4ab-43ad-8021-950fcd814bf2",
   "metadata": {},
   "outputs": [
    {
     "data": {
      "image/png": "[encoded data removed]",
      "text/plain": [
       "<Figure size 1000x600 with 1 Axes>"
      ]
     },
     "metadata": {},
     "output_type": "display_data"
    }
   ],
   "source": [
    "# Plot the loss curves\n",
    "plt.figure(figsize=(10, 6))\n",
    "plt.plot(train_losses, label=\"Train Loss\")\n",
    "plt.plot(test_losses, label=\"Test Loss\")\n",
    "plt.xlabel(\"Epoch\")\n",
    "plt.ylabel(\"Loss\")\n",
    "plt.title(\"Training and Test Loss over Epochs\")\n",
    "plt.legend()\n",
    "plt.show()\n"
   ]
  },
  {
   "cell_type": "markdown",
   "id": "502e0002-6d52-4753-9c50-d940f276c458",
   "metadata": {},
   "source": [
    "### 4. Saving a model in PyTorch\n",
    "\n",
    "There are three main methods you should know about for saving and loading models in torch.\n",
    "\n",
    "1. `torch.save()` - allows you to save a PyTorch object in python's pickle format\n",
    "2. `torch.load()` - allows you to load the saved PyTorch object\n",
    "3. `torch.nn.Module.load_state_dict()` - this allows to load a model's saved state dictionary."
   ]
  },
  {
   "cell_type": "code",
   "execution_count": 464,
   "id": "f618af99-6ca9-48bc-8827-8a8cf00793ee",
   "metadata": {},
   "outputs": [
    {
     "data": {
      "text/plain": [
       "OrderedDict([('weights', tensor([0.6991])), ('bias', tensor([0.2995]))])"
      ]
     },
     "execution_count": 464,
     "metadata": {},
     "output_type": "execute_result"
    }
   ],
   "source": [
    "model_0.state_dict()"
   ]
  },
  {
   "cell_type": "code",
   "execution_count": 467,
   "id": "32e53003-6759-40cf-8cb6-7db54a728dec",
   "metadata": {},
   "outputs": [
    {
     "name": "stdout",
     "output_type": "stream",
     "text": [
      "Saving model to: models\\01_pytorch_workflow_0.pth\n"
     ]
    }
   ],
   "source": [
    "# Saving our PyTorch model\n",
    "from pathlib import Path \n",
    "\n",
    "# 1. Create models directory\n",
    "MODEL_PATH = Path('models')\n",
    "MODEL_PATH.mkdir(parents=True, exist_ok=True)\n",
    "\n",
    "# 2. Create model save path \n",
    "MODEL_NAME = '01_pytorch_workflow_0.pth'\n",
    "MODEL_SAVE_PATH = MODEL_PATH / MODEL_NAME\n",
    "\n",
    "# 3. Save the model state dict \n",
    "print(f'Saving model to: {MODEL_SAVE_PATH}')\n",
    "torch.save(obj=model_0.state_dict(),\n",
    "           f=MODEL_SAVE_PATH)"
   ]
  },
  {
   "cell_type": "code",
   "execution_count": 465,
   "id": "58188859-2554-4431-9e40-6b298e538632",
   "metadata": {},
   "outputs": [
    {
     "data": {
      "text/plain": [
       "LinearRegressionModel()"
      ]
     },
     "execution_count": 465,
     "metadata": {},
     "output_type": "execute_result"
    }
   ],
   "source": [
    "model_0"
   ]
  },
  {
   "cell_type": "markdown",
   "id": "9acf18cd-8884-4e7b-b4e4-915762a4d0c0",
   "metadata": {},
   "source": [
    "### 5. Loading a PyTorch Model\n",
    "\n",
    "Since we saved our model's `state_dict()` rather than entire model, we'll create new instance of our model class and load the saved `state_dict` into that."
   ]
  },
  {
   "cell_type": "code",
   "execution_count": 469,
   "id": "e835d548-55bf-4e73-8e69-4c820c96e2a0",
   "metadata": {},
   "outputs": [
    {
     "data": {
      "text/plain": [
       "OrderedDict([('weights', tensor([0.6991])), ('bias', tensor([0.2995]))])"
      ]
     },
     "execution_count": 469,
     "metadata": {},
     "output_type": "execute_result"
    }
   ],
   "source": [
    "model_0.state_dict()"
   ]
  },
  {
   "cell_type": "code",
   "execution_count": 472,
   "id": "65c2329b-6e41-4c25-930e-35974316b698",
   "metadata": {},
   "outputs": [
    {
     "name": "stderr",
     "output_type": "stream",
     "text": [
      "C:\\Users\\yashs\\AppData\\Local\\Temp\\ipykernel_17172\\1170343677.py:5: FutureWarning: You are using `torch.load` with `weights_only=False` (the current default value), which uses the default pickle module implicitly. It is possible to construct malicious pickle data which will execute arbitrary code during unpickling (See https://github.com/pytorch/pytorch/blob/main/SECURITY.md#untrusted-models for more details). In a future release, the default value for `weights_only` will be flipped to `True`. This limits the functions that could be executed during unpickling. Arbitrary objects will no longer be allowed to be loaded via this mode unless they are explicitly allowlisted by the user via `torch.serialization.add_safe_globals`. We recommend you start setting `weights_only=True` for any use case where you don't have full control of the loaded file. Please open an issue on GitHub for any issues related to this experimental feature.\n",
      "  loaded_model_0.load_state_dict(torch.load(f=MODEL_SAVE_PATH))\n"
     ]
    },
    {
     "data": {
      "text/plain": [
       "<All keys matched successfully>"
      ]
     },
     "execution_count": 472,
     "metadata": {},
     "output_type": "execute_result"
    }
   ],
   "source": [
    "# To load in a saved state_dict we have to instantiate a new instance of our model class\n",
    "loaded_model_0 = LinearRegressionModel()\n",
    "\n",
    "# Load the saved state_dict of model_0 (this will update the new instance with updated parameters)\n",
    "loaded_model_0.load_state_dict(torch.load(f=MODEL_SAVE_PATH))"
   ]
  },
  {
   "cell_type": "code",
   "execution_count": 471,
   "id": "21dd6118-2c7b-4981-adfe-3878ed489eef",
   "metadata": {},
   "outputs": [
    {
     "data": {
      "text/plain": [
       "OrderedDict([('weights', tensor([0.3367])), ('bias', tensor([0.1288]))])"
      ]
     },
     "execution_count": 471,
     "metadata": {},
     "output_type": "execute_result"
    }
   ],
   "source": [
    "# Without loading\n",
    "#loaded_model_0.state_dict()\n",
    "#OrderedDict([('weights', tensor([0.3367])), ('bias', tensor([0.1288]))])"
   ]
  },
  {
   "cell_type": "code",
   "execution_count": 473,
   "id": "910119df-2862-4a99-9cdb-a0a5db8c7d72",
   "metadata": {},
   "outputs": [
    {
     "data": {
      "text/plain": [
       "OrderedDict([('weights', tensor([0.6991])), ('bias', tensor([0.2995]))])"
      ]
     },
     "execution_count": 473,
     "metadata": {},
     "output_type": "execute_result"
    }
   ],
   "source": [
    "loaded_model_0.state_dict()"
   ]
  },
  {
   "cell_type": "code",
   "execution_count": 475,
   "id": "6e09c16c-ad3b-4753-bebd-9c24c04aca4c",
   "metadata": {},
   "outputs": [
    {
     "data": {
      "text/plain": [
       "tensor([[0.8588],\n",
       "        [0.8727],\n",
       "        [0.8867],\n",
       "        [0.9007],\n",
       "        [0.9147],\n",
       "        [0.9287],\n",
       "        [0.9426],\n",
       "        [0.9566],\n",
       "        [0.9706],\n",
       "        [0.9846]])"
      ]
     },
     "execution_count": 475,
     "metadata": {},
     "output_type": "execute_result"
    }
   ],
   "source": [
    "# Make some predictions with our loaded model \n",
    "loaded_model_0.eval()\n",
    "with torch.inference_mode():\n",
    "    loaded_model_preds = loaded_model_0(X_test)\n",
    "\n",
    "loaded_model_preds"
   ]
  },
  {
   "cell_type": "code",
   "execution_count": 478,
   "id": "75960859-3b44-487a-b585-9a9554ac7372",
   "metadata": {},
   "outputs": [
    {
     "data": {
      "text/plain": [
       "tensor([[True],\n",
       "        [True],\n",
       "        [True],\n",
       "        [True],\n",
       "        [True],\n",
       "        [True],\n",
       "        [True],\n",
       "        [True],\n",
       "        [True],\n",
       "        [True]])"
      ]
     },
     "execution_count": 478,
     "metadata": {},
     "output_type": "execute_result"
    }
   ],
   "source": [
    "# Compare loaded model preds with original model preds\n",
    "y_preds_new == loaded_model_preds"
   ]
  },
  {
   "cell_type": "markdown",
   "id": "fa31588e-9e06-496e-9a15-7c17f4b7f5d6",
   "metadata": {},
   "source": [
    "### 6. Putting it all together\n",
    "\n",
    "Let's go back through the steps above and see it all in one place."
   ]
  },
  {
   "cell_type": "code",
   "execution_count": 479,
   "id": "394fd901-dd7c-4c71-b8ca-4b0c4a8747b8",
   "metadata": {},
   "outputs": [],
   "source": [
    "# Import Pytorch and matplotlib\n",
    "import torch\n",
    "from torch import nn\n",
    "import matplotlib.pyplot as plt \n"
   ]
  },
  {
   "cell_type": "markdown",
   "id": "3a7e7f0f-2a71-4d90-a92d-e16b1f472183",
   "metadata": {},
   "source": [
    "Create device-agnostic code.\n",
    "\n",
    "This means if we've got access to a GPU, our code will use it (for potentially faster computing)\n",
    "\n",
    "if no GPU is available, the code will default to using CPU."
   ]
  },
  {
   "cell_type": "code",
   "execution_count": 480,
   "id": "2b484e13-9fc0-4976-9f54-706c36746958",
   "metadata": {},
   "outputs": [
    {
     "name": "stdout",
     "output_type": "stream",
     "text": [
      "Using device: cuda\n"
     ]
    }
   ],
   "source": [
    "# Setup device agnoistic code \n",
    "device = 'cuda' if torch.cuda.is_available() else 'cpu'\n",
    "print(f'Using device: {device}')"
   ]
  },
  {
   "cell_type": "markdown",
   "id": "2d630c8f-351b-4c18-8d7a-e3443bf9ac1a",
   "metadata": {},
   "source": [
    "#### 6.1 Data"
   ]
  },
  {
   "cell_type": "code",
   "execution_count": 481,
   "id": "36b4aff8-d1ef-4e4d-8b57-0705a803d547",
   "metadata": {},
   "outputs": [
    {
     "data": {
      "text/plain": [
       "(tensor([[0.0000],\n",
       "         [0.0200],\n",
       "         [0.0400],\n",
       "         [0.0600],\n",
       "         [0.0800],\n",
       "         [0.1000],\n",
       "         [0.1200],\n",
       "         [0.1400],\n",
       "         [0.1600],\n",
       "         [0.1800]]),\n",
       " tensor([[0.3000],\n",
       "         [0.3140],\n",
       "         [0.3280],\n",
       "         [0.3420],\n",
       "         [0.3560],\n",
       "         [0.3700],\n",
       "         [0.3840],\n",
       "         [0.3980],\n",
       "         [0.4120],\n",
       "         [0.4260]]))"
      ]
     },
     "execution_count": 481,
     "metadata": {},
     "output_type": "execute_result"
    }
   ],
   "source": [
    "# Create some data using the linear regression formula of y = weight * feature + bias\n",
    "weight = 0.7\n",
    "bias = 0.3\n",
    "\n",
    "# Create range values \n",
    "start = 0\n",
    "end = 1\n",
    "step = 0.02\n",
    "\n",
    "# Create X and y (features and labels)\n",
    "X = torch.arange(start, end, step).unsqueeze(dim=1)\n",
    "y = weight * X + bias\n",
    "X[:10], y[:10]"
   ]
  },
  {
   "cell_type": "code",
   "execution_count": 482,
   "id": "d143077f-81af-44fb-a7fd-effcb6f098ef",
   "metadata": {},
   "outputs": [
    {
     "data": {
      "text/plain": [
       "(40, 10, 40, 10)"
      ]
     },
     "execution_count": 482,
     "metadata": {},
     "output_type": "execute_result"
    }
   ],
   "source": [
    " # Split data\n",
    "train_split = int(0.8 * len(X))\n",
    "X_train, y_train = X[:train_split], y[:train_split]\n",
    "X_test, y_test = X[train_split:], y[train_split:]\n",
    "\n",
    "len(X_train), len(X_test), len(y_train), len(y_test)"
   ]
  },
  {
   "cell_type": "code",
   "execution_count": 483,
   "id": "ff920cab-5a86-432e-a35d-f9f4b368195e",
   "metadata": {},
   "outputs": [
    {
     "data": {
      "image/png": "[encoded data removed]",
      "text/plain": [
       "<Figure size 1000x600 with 1 Axes>"
      ]
     },
     "metadata": {},
     "output_type": "display_data"
    }
   ],
   "source": [
    "# Plot the data \n",
    "plot_predictions()"
   ]
  },
  {
   "cell_type": "markdown",
   "id": "48de15cf-efbf-4486-a9f5-6c4ce66d58eb",
   "metadata": {},
   "source": [
    "#### 6.2 Building a PyTorch Linear Model"
   ]
  },
  {
   "cell_type": "code",
   "execution_count": 488,
   "id": "ddad5705-784a-4545-9085-12ddc72565c2",
   "metadata": {},
   "outputs": [
    {
     "data": {
      "text/plain": [
       "(LinearRegressionModelV2(\n",
       "   (linear_layer): Linear(in_features=1, out_features=1, bias=True)\n",
       " ),\n",
       " OrderedDict([('linear_layer.weight', tensor([[0.7645]])),\n",
       "              ('linear_layer.bias', tensor([0.8300]))]))"
      ]
     },
     "execution_count": 488,
     "metadata": {},
     "output_type": "execute_result"
    }
   ],
   "source": [
    "# Create a linear model by subclassing nn.Module\n",
    "class LinearRegressionModelV2(nn.Module):\n",
    "    def __init__(self):\n",
    "        super().__init__()\n",
    "        # Use nn.Linear() for creating the model parameters/ also called: linear transform, probing layer, fully connected layer, dense layer\n",
    "        self.linear_layer = nn.Linear(in_features=1, out_features=1, bias=True)\n",
    "    def forward(self, x: torch.Tensor) -> torch.Tensor:\n",
    "        return self.linear_layer(x)\n",
    "\n",
    "# set the manual seed \n",
    "torch.manual_seed(42)\n",
    "model_1 = LinearRegressionModelV2()\n",
    "model_1, model_1.state_dict()"
   ]
  },
  {
   "cell_type": "code",
   "execution_count": 489,
   "id": "91836eb3-4cd5-466f-b99e-0d2890820e9b",
   "metadata": {},
   "outputs": [
    {
     "data": {
      "text/plain": [
       "device(type='cpu')"
      ]
     },
     "execution_count": 489,
     "metadata": {},
     "output_type": "execute_result"
    }
   ],
   "source": [
    "# check the model current device\n",
    "next(model_1.parameters()).device"
   ]
  },
  {
   "cell_type": "code",
   "execution_count": 491,
   "id": "2b6bc201-e57b-468f-9f13-4fe63420ef16",
   "metadata": {},
   "outputs": [
    {
     "data": {
      "text/plain": [
       "device(type='cuda', index=0)"
      ]
     },
     "execution_count": 491,
     "metadata": {},
     "output_type": "execute_result"
    }
   ],
   "source": [
    "# See the model to use the target device\n",
    "model_1.to(device)\n",
    "next(model_1.parameters()).device"
   ]
  },
  {
   "cell_type": "markdown",
   "id": "bf1efc16-631d-4672-9071-ef3b94c22f4f",
   "metadata": {},
   "source": [
    "#### 6.3 Training\n",
    "\n",
    "For Training we need:\n",
    "* Loss function\n",
    "* Optimizer\n",
    "* Training Loop\n",
    "* Testing Loop\n"
   ]
  },
  {
   "cell_type": "code",
   "execution_count": 501,
   "id": "43ffff71-4a1b-4762-a95c-f9f1911afee3",
   "metadata": {},
   "outputs": [],
   "source": [
    "# Setup loss function \n",
    "loss_fn = nn.L1Loss()\n",
    "\n",
    "# Setpu optimizer\n",
    "optimizer = torch.optim.SGD(params=model_1.parameters(), lr=0.001)"
   ]
  },
  {
   "cell_type": "code",
   "execution_count": 502,
   "id": "00a8045f-3995-470e-8232-3a590f68183d",
   "metadata": {},
   "outputs": [
    {
     "name": "stdout",
     "output_type": "stream",
     "text": [
      "Epoch: 0 | Loss: 0.010256479494273663 | Test loss: 0.012454724870622158\n",
      "Epoch: 10 | Loss: 0.0006695442134514451 | Test loss: 0.0014927327865734696\n",
      "Epoch: 20 | Loss: 0.0003230251313652843 | Test loss: 0.0006653607124462724\n",
      "Epoch: 30 | Loss: 0.0005198359722271562 | Test loss: 0.00040595533209852874\n",
      "Epoch: 40 | Loss: 0.0005198359722271562 | Test loss: 0.00040595533209852874\n",
      "Epoch: 50 | Loss: 0.0005198359722271562 | Test loss: 0.00040595533209852874\n",
      "Epoch: 60 | Loss: 0.0005198359722271562 | Test loss: 0.00040595533209852874\n",
      "Epoch: 70 | Loss: 0.0005198359722271562 | Test loss: 0.00040595533209852874\n",
      "Epoch: 80 | Loss: 0.0005198359722271562 | Test loss: 0.00040595533209852874\n",
      "Epoch: 90 | Loss: 0.0005198359722271562 | Test loss: 0.00040595533209852874\n",
      "Epoch: 100 | Loss: 0.0005198359722271562 | Test loss: 0.00040595533209852874\n",
      "Epoch: 110 | Loss: 0.0005198359722271562 | Test loss: 0.00040595533209852874\n",
      "Epoch: 120 | Loss: 0.0005198359722271562 | Test loss: 0.00040595533209852874\n",
      "Epoch: 130 | Loss: 0.0005198359722271562 | Test loss: 0.00040595533209852874\n",
      "Epoch: 140 | Loss: 0.0005198359722271562 | Test loss: 0.00040595533209852874\n",
      "Epoch: 150 | Loss: 0.0005198359722271562 | Test loss: 0.00040595533209852874\n",
      "Epoch: 160 | Loss: 0.0005198359722271562 | Test loss: 0.00040595533209852874\n",
      "Epoch: 170 | Loss: 0.0005198359722271562 | Test loss: 0.00040595533209852874\n",
      "Epoch: 180 | Loss: 0.0005198359722271562 | Test loss: 0.00040595533209852874\n",
      "Epoch: 190 | Loss: 0.0005198359722271562 | Test loss: 0.00040595533209852874\n"
     ]
    }
   ],
   "source": [
    "# Let's write a training loop\n",
    "torch.manual_seed(42)\n",
    "\n",
    "epochs = 200\n",
    "\n",
    "# Put data on target device (device agnostic code for data)\n",
    "X_train = X_train.to(device)\n",
    "y_train = y_train.to(device)\n",
    "X_test = X_test.to(device)\n",
    "y_test = y_test.to(device)\n",
    "for epoch in range(epochs):\n",
    "    model_1.train()\n",
    "\n",
    "    # 1. Forward pass\n",
    "    y_pred = model_1(X_train)\n",
    "\n",
    "    # 2. Calculate the loss\n",
    "    loss = loss_fn(y_pred, y_train)\n",
    "    \n",
    "    # 3. Optimizer zero grad\n",
    "    optimizer.zero_grad()\n",
    "\n",
    "    # 4. Perform backpropogation\n",
    "    loss.backward()\n",
    "\n",
    "    # 5. Optimezer step to perform gradient descent\n",
    "    optimizer.step()\n",
    "\n",
    "    ### Testing\n",
    "    model_1.eval()\n",
    "    with torch.inference_mode():\n",
    "        # Forward pass on test set \n",
    "        test_pred = model_1(X_test)\n",
    "        test_loss = loss_fn(test_pred, y_test)\n",
    "\n",
    "    # Print out what's happening\n",
    "    if epoch % 10 == 0:\n",
    "        print(f'Epoch: {epoch} | Loss: {loss} | Test loss: {test_loss}')"
   ]
  },
  {
   "cell_type": "code",
   "execution_count": 503,
   "id": "4ed753a7-da41-4f99-a058-99aa308bad7e",
   "metadata": {},
   "outputs": [
    {
     "data": {
      "text/plain": [
       "OrderedDict([('linear_layer.weight', tensor([[0.6992]], device='cuda:0')),\n",
       "             ('linear_layer.bias', tensor([0.2998], device='cuda:0'))])"
      ]
     },
     "execution_count": 503,
     "metadata": {},
     "output_type": "execute_result"
    }
   ],
   "source": [
    "model_1.state_dict()\n"
   ]
  },
  {
   "cell_type": "code",
   "execution_count": 504,
   "id": "d4f962cd-83e7-4c7d-9f4b-36638e689e76",
   "metadata": {},
   "outputs": [
    {
     "data": {
      "text/plain": [
       "(0.7, 0.3)"
      ]
     },
     "execution_count": 504,
     "metadata": {},
     "output_type": "execute_result"
    }
   ],
   "source": [
    "weight, bias"
   ]
  },
  {
   "cell_type": "markdown",
   "id": "cfa4f649-8236-4129-9d17-090fdd61d18e",
   "metadata": {},
   "source": [
    "#### 6.4 Making and evaluating predictions"
   ]
  },
  {
   "cell_type": "code",
   "execution_count": 505,
   "id": "eae4ed35-1a26-4553-8005-24aa67422893",
   "metadata": {},
   "outputs": [
    {
     "data": {
      "text/plain": [
       "tensor([[0.8591],\n",
       "        [0.8731],\n",
       "        [0.8871],\n",
       "        [0.9011],\n",
       "        [0.9151],\n",
       "        [0.9291],\n",
       "        [0.9430],\n",
       "        [0.9570],\n",
       "        [0.9710],\n",
       "        [0.9850]], device='cuda:0')"
      ]
     },
     "execution_count": 505,
     "metadata": {},
     "output_type": "execute_result"
    }
   ],
   "source": [
    "# Turn the model into eval mode\n",
    "model_1.eval()\n",
    "\n",
    "# Make predictions on the test data \n",
    "with torch.inference_mode():\n",
    "    y_preds = model_1(X_test)\n",
    "y_preds"
   ]
  },
  {
   "cell_type": "code",
   "execution_count": 506,
   "id": "b67d7c1c-291c-41f9-ad8a-4446da34b009",
   "metadata": {},
   "outputs": [
    {
     "data": {
      "image/png": "[encoded data removed]",
      "text/plain": [
       "<Figure size 1000x600 with 1 Axes>"
      ]
     },
     "metadata": {},
     "output_type": "display_data"
    }
   ],
   "source": [
    "# Check out our model predictions visually\n",
    "plot_predictions(predictions=y_preds.cpu().numpy())"
   ]
  },
  {
   "cell_type": "markdown",
   "id": "f4bec0a3-691c-4483-8c84-8f6e76b7439b",
   "metadata": {},
   "source": [
    "#### 6.5 Saving and Loading a trained model"
   ]
  },
  {
   "cell_type": "code",
   "execution_count": 511,
   "id": "a9390317-d4c1-4f2c-966f-0fcb842a42c5",
   "metadata": {},
   "outputs": [
    {
     "name": "stdout",
     "output_type": "stream",
     "text": [
      "Saving model to: models\\01_pytorch_workflow_model_1.pth\n"
     ]
    }
   ],
   "source": [
    "from pathlib import Path\n",
    "\n",
    "# 1. Create models directory\n",
    "MODEL_PATH = Path('models')\n",
    "MODEL_PATH.mkdir(parents=True, exist_ok=True)\n",
    "\n",
    "# 2. Create model save path\n",
    "MODEL_NAME = '01_pytorch_workflow_model_1.pth'\n",
    "MODEL_SAVE_PATH = MODEL_PATH / MODEL_NAME\n",
    "\n",
    "# 3. Save the model state dict\n",
    "print(f'Saving model to: {MODEL_SAVE_PATH}')\n",
    "torch.save(obj=model_1.state_dict(), f=MODEL_SAVE_PATH)\n"
   ]
  },
  {
   "cell_type": "code",
   "execution_count": 513,
   "id": "e8dee12d-5ed8-4839-8261-266b41413b17",
   "metadata": {},
   "outputs": [
    {
     "name": "stderr",
     "output_type": "stream",
     "text": [
      "C:\\Users\\yashs\\AppData\\Local\\Temp\\ipykernel_17172\\2461640510.py:6: FutureWarning: You are using `torch.load` with `weights_only=False` (the current default value), which uses the default pickle module implicitly. It is possible to construct malicious pickle data which will execute arbitrary code during unpickling (See https://github.com/pytorch/pytorch/blob/main/SECURITY.md#untrusted-models for more details). In a future release, the default value for `weights_only` will be flipped to `True`. This limits the functions that could be executed during unpickling. Arbitrary objects will no longer be allowed to be loaded via this mode unless they are explicitly allowlisted by the user via `torch.serialization.add_safe_globals`. We recommend you start setting `weights_only=True` for any use case where you don't have full control of the loaded file. Please open an issue on GitHub for any issues related to this experimental feature.\n",
      "  loaded_model_1.load_state_dict(torch.load(MODEL_SAVE_PATH))\n"
     ]
    },
    {
     "data": {
      "text/plain": [
       "LinearRegressionModelV2(\n",
       "  (linear_layer): Linear(in_features=1, out_features=1, bias=True)\n",
       ")"
      ]
     },
     "execution_count": 513,
     "metadata": {},
     "output_type": "execute_result"
    }
   ],
   "source": [
    "# Load a Pytorch\n",
    "loaded_model_1 = LinearRegressionModelV2()\n",
    "\n",
    "\n",
    "# Load the saved model_1 state_dict \n",
    "loaded_model_1.load_state_dict(torch.load(MODEL_SAVE_PATH))\n",
    "\n",
    "# Put the loaded model to device\n",
    "loaded_model_1.to(device)"
   ]
  },
  {
   "cell_type": "code",
   "execution_count": 514,
   "id": "383d2f1e-9110-4bbb-a31d-8ecd05e91b3a",
   "metadata": {},
   "outputs": [
    {
     "data": {
      "text/plain": [
       "device(type='cuda', index=0)"
      ]
     },
     "execution_count": 514,
     "metadata": {},
     "output_type": "execute_result"
    }
   ],
   "source": [
    "next(loaded_model_1.parameters()).device"
   ]
  },
  {
   "cell_type": "code",
   "execution_count": 515,
   "id": "6ab75291-26c6-4c2f-8d7f-837b62bb479e",
   "metadata": {},
   "outputs": [
    {
     "data": {
      "text/plain": [
       "OrderedDict([('linear_layer.weight', tensor([[0.6992]], device='cuda:0')),\n",
       "             ('linear_layer.bias', tensor([0.2998], device='cuda:0'))])"
      ]
     },
     "execution_count": 515,
     "metadata": {},
     "output_type": "execute_result"
    }
   ],
   "source": [
    "loaded_model_1.state_dict()"
   ]
  },
  {
   "cell_type": "code",
   "execution_count": 517,
   "id": "1fba1643-e46c-444a-ae9c-a4fbfc8f0c36",
   "metadata": {},
   "outputs": [
    {
     "data": {
      "text/plain": [
       "tensor([[True],\n",
       "        [True],\n",
       "        [True],\n",
       "        [True],\n",
       "        [True],\n",
       "        [True],\n",
       "        [True],\n",
       "        [True],\n",
       "        [True],\n",
       "        [True]], device='cuda:0')"
      ]
     },
     "execution_count": 517,
     "metadata": {},
     "output_type": "execute_result"
    }
   ],
   "source": [
    "# Evaluate loaded model\n",
    "loaded_model_1.eval()\n",
    "with torch.inference_mode():\n",
    "    loaded_model_1_preds = loaded_model_1(X_test)\n",
    "y_preds == loaded_model_1_preds"
   ]
  },
  {
   "cell_type": "code",
   "execution_count": null,
   "id": "125ef00f-e8dd-4e61-b136-86e24df9838c",
   "metadata": {},
   "outputs": [],
   "source": []
  }
 ],
 "metadata": {
  "kernelspec": {
   "display_name": "Python [conda env:torch_gpu_env]",
   "language": "python",
   "name": "conda-env-torch_gpu_env-py"
  },
  "language_info": {
   "codemirror_mode": {
    "name": "ipython",
    "version": 3
   },
   "file_extension": ".py",
   "mimetype": "text/x-python",
   "name": "python",
   "nbconvert_exporter": "python",
   "pygments_lexer": "ipython3",
   "version": "3.10.16"
  }
 },
 "nbformat": 4,
 "nbformat_minor": 5
}
