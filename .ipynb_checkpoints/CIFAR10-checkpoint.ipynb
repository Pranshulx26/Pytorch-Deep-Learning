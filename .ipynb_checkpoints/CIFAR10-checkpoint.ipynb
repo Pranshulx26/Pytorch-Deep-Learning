{
 "cells": [
  {
   "cell_type": "markdown",
   "id": "fd3741f1-1072-4bcb-9a2e-4bfad2bc580b",
   "metadata": {},
   "source": [
    "# 🧠 CIFAR-10 Image Classification with PyTorch\n",
    "\n",
    "Welcome to the **CIFAR-10 image classification** project! 🎉\n",
    "\n",
    "In this project, we'll build, train, and evaluate convolutional neural networks (CNNs) using **PyTorch** on the **CIFAR-10 dataset**, which consists of 60,000 color images across 10 different classes:\n",
    "\n",
    "- airplane\n",
    "- automobile\n",
    "- bird\n",
    "- cat\n",
    "- deer\n",
    "- dog\n",
    "- frog\n",
    "- horse\n",
    "- ship\n",
    "- truck\n",
    "\n",
    "We'll explore:\n",
    "- Building a Simple NN \n",
    "- Building a CNN \n",
    "- Evaluating model's performance\n",
    "- Visualizing training progress\n",
    "- Improving results with regularization\n",
    "- (Optional) Transfer learning with pretrained models\n",
    "\n",
    "Let's get started! 🚀\n"
   ]
  },
  {
   "cell_type": "markdown",
   "id": "45e2fa22-4d5c-41a4-be62-141c767a9bfc",
   "metadata": {},
   "source": [
    "## 0. Importing Libraries\n"
   ]
  },
  {
   "cell_type": "code",
   "execution_count": 2,
   "id": "e1be7ed3-ef47-42ea-9588-5452f9e2f43c",
   "metadata": {},
   "outputs": [],
   "source": [
    "import torch\n",
    "from torch import nn\n",
    "\n",
    "import torchvision\n",
    "from torchvision import datasets\n",
    "from torchvision import transforms\n",
    "from torchvision.transforms import ToTensor\n",
    "\n",
    "# For visualisation \n",
    "import matplotlib.pyplot as plt\n",
    "\n",
    "# For progress bar\n",
    "from tqdm.auto import tqdm \n",
    "\n",
    "# To visualize timings of the models\n",
    "from timeit import default_timer as timer"
   ]
  },
  {
   "cell_type": "markdown",
   "id": "a8358238-0ab2-4653-a9a5-62c92bc763d2",
   "metadata": {},
   "source": [
    "## 1. Getting a dataset \n",
    "The dataset we'll be using CIFAR10 From `torchvision.datasets`"
   ]
  },
  {
   "cell_type": "code",
   "execution_count": 4,
   "id": "faada14c-8980-49d4-bd73-8c1df757b73d",
   "metadata": {},
   "outputs": [
    {
     "name": "stdout",
     "output_type": "stream",
     "text": [
      "Downloading https://www.cs.toronto.edu/~kriz/cifar-10-python.tar.gz to data\\cifar-10-python.tar.gz\n"
     ]
    },
    {
     "name": "stderr",
     "output_type": "stream",
     "text": [
      "100%|████████████████████████████████████████████████████████████████████████████████| 170M/170M [04:25<00:00, 642kB/s]\n"
     ]
    },
    {
     "name": "stdout",
     "output_type": "stream",
     "text": [
      "Extracting data\\cifar-10-python.tar.gz to data\n",
      "Files already downloaded and verified\n"
     ]
    }
   ],
   "source": [
    "# Setup training data \n",
    "train_data = datasets.CIFAR10(\n",
    "    root='data',\n",
    "    train=True,\n",
    "    download=True,\n",
    "    transform=torchvision.transforms.ToTensor(), # To convert the images into tensor\n",
    "    target_transform=None # How do we want to transform the labels/ targets?\n",
    ")\n",
    "\n",
    "test_data = datasets.CIFAR10(\n",
    "    root='data',\n",
    "    train=False,\n",
    "    download=True,\n",
    "    transform=torchvision.transforms.ToTensor(),\n",
    "    target_transform=None\n",
    "    \n",
    ")"
   ]
  },
  {
   "cell_type": "code",
   "execution_count": 5,
   "id": "cd8acc9e-fe1c-421b-a6ce-ddc0e5f9f1b4",
   "metadata": {},
   "outputs": [
    {
     "data": {
      "text/plain": [
       "(50000, 10000)"
      ]
     },
     "execution_count": 5,
     "metadata": {},
     "output_type": "execute_result"
    }
   ],
   "source": [
    "len(train_data), len(test_data)"
   ]
  },
  {
   "cell_type": "code",
   "execution_count": null,
   "id": "c1a3261d-92bd-4ccb-ac69-3be18a7315da",
   "metadata": {},
   "outputs": [],
   "source": []
  }
 ],
 "metadata": {
  "kernelspec": {
   "display_name": "Python [conda env:torch_gpu_env]",
   "language": "python",
   "name": "conda-env-torch_gpu_env-py"
  },
  "language_info": {
   "codemirror_mode": {
    "name": "ipython",
    "version": 3
   },
   "file_extension": ".py",
   "mimetype": "text/x-python",
   "name": "python",
   "nbconvert_exporter": "python",
   "pygments_lexer": "ipython3",
   "version": "3.10.16"
  }
 },
 "nbformat": 4,
 "nbformat_minor": 5
}
