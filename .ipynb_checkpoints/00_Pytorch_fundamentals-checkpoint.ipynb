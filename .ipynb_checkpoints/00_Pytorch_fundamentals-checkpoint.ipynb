{
 "cells": [
  {
   "cell_type": "markdown",
   "id": "55ea0a73-9b54-4067-82d5-eca69ac3b6c7",
   "metadata": {},
   "source": [
    "## 00. PyTorch Fundamentals\n",
    "\n",
    "Resource notebook: https://www.learnpytorch.io/00_pytorch_fundamentals/"
   ]
  },
  {
   "cell_type": "code",
   "execution_count": 1,
   "id": "694e8e85-f0d1-4668-bfc4-4d26105b65c8",
   "metadata": {},
   "outputs": [
    {
     "name": "stdout",
     "output_type": "stream",
     "text": [
      "2.5.1\n"
     ]
    }
   ],
   "source": [
    "import torch \n",
    "import pandas as pd \n",
    "import numpy as np \n",
    "import matplotlib.pyplot as plt \n",
    "print(torch.__version__)"
   ]
  },
  {
   "cell_type": "markdown",
   "id": "26d5bee3-ffd1-4411-a055-a2ac0aa2557d",
   "metadata": {},
   "source": [
    "### Introduction to Tensors\n",
    "\n",
    "#### Creating tensors\n",
    "Tensors : A torch.Tensor is a multi-dimensional matrix containing elements of a single data type.\n",
    "Pytorch tensors are created using `torch.Tensor` = https://pytorch.org/docs/stable/tensors.html"
   ]
  },
  {
   "cell_type": "code",
   "execution_count": 7,
   "id": "dd0bb27b-ace5-4140-ae23-b63405232d1c",
   "metadata": {},
   "outputs": [
    {
     "name": "stdout",
     "output_type": "stream",
     "text": [
      "tensor(7)\n"
     ]
    }
   ],
   "source": [
    "# scalar \n",
    "scalar = torch.tensor(7)\n",
    "print(scalar)"
   ]
  },
  {
   "cell_type": "code",
   "execution_count": 8,
   "id": "95c00554-c29c-426a-894f-7c4b870763c5",
   "metadata": {},
   "outputs": [
    {
     "data": {
      "text/plain": [
       "0"
      ]
     },
     "execution_count": 8,
     "metadata": {},
     "output_type": "execute_result"
    }
   ],
   "source": [
    "scalar.ndim"
   ]
  },
  {
   "cell_type": "code",
   "execution_count": 11,
   "id": "cdc9edb5-2a13-4f2d-87f3-7259b664b7f8",
   "metadata": {},
   "outputs": [
    {
     "data": {
      "text/plain": [
       "7"
      ]
     },
     "execution_count": 11,
     "metadata": {},
     "output_type": "execute_result"
    }
   ],
   "source": [
    "# Get tensor back as Python int but only works with scalar\n",
    "scalar.item()"
   ]
  },
  {
   "cell_type": "markdown",
   "id": "34d0939e-0bfa-472a-974e-464533791726",
   "metadata": {},
   "source": [
    "Vectors : A vector can be thought of as a list of values or a row in a table, where each component of the vector corresponds to a specific feature or attribute of the data.For example, in a housing price prediction scenario, a vector might include features such as the year of construction, number of bedrooms, area, and size of the garage."
   ]
  },
  {
   "cell_type": "code",
   "execution_count": 13,
   "id": "eae58abb-4914-47da-8cf3-24ec8c313463",
   "metadata": {},
   "outputs": [
    {
     "name": "stdout",
     "output_type": "stream",
     "text": [
      "tensor([7, 7])\n"
     ]
    }
   ],
   "source": [
    "# Vector \n",
    "vector = torch.tensor([7, 7])\n",
    "print(vector)"
   ]
  },
  {
   "cell_type": "code",
   "execution_count": 14,
   "id": "aafbb148-469d-47ea-abbc-eedd3f20a1c6",
   "metadata": {},
   "outputs": [
    {
     "name": "stdout",
     "output_type": "stream",
     "text": [
      "1\n"
     ]
    }
   ],
   "source": [
    "print(vector.ndim)"
   ]
  },
  {
   "cell_type": "code",
   "execution_count": 15,
   "id": "2e139e17-80d1-4dd6-92fd-70208877b892",
   "metadata": {},
   "outputs": [
    {
     "data": {
      "text/plain": [
       "torch.Size([2])"
      ]
     },
     "execution_count": 15,
     "metadata": {},
     "output_type": "execute_result"
    }
   ],
   "source": [
    "vector.shape"
   ]
  },
  {
   "cell_type": "markdown",
   "id": "f9319e83-ed32-44cf-9f2f-2224b8323509",
   "metadata": {},
   "source": [
    "MATRIX : matrices are used to store and manipulate data efficiently. For example, a dataset can be represented as a matrix where each row corresponds to a sample, and each column corresponds to a feature. This structured representation allows for efficient computation and transformation of data, which is crucial for training models like linear regression and neural networks."
   ]
  },
  {
   "cell_type": "code",
   "execution_count": 17,
   "id": "c4b4dd4c-6c9e-4dc5-9725-ece3cec679c4",
   "metadata": {},
   "outputs": [
    {
     "data": {
      "text/plain": [
       "tensor([[ 7,  8],\n",
       "        [ 9, 10]])"
      ]
     },
     "execution_count": 17,
     "metadata": {},
     "output_type": "execute_result"
    }
   ],
   "source": [
    "# MATRIX \n",
    "MATRIX = torch.tensor([[7, 8],\n",
    "                      [9, 10]])\n",
    "MATRIX"
   ]
  },
  {
   "cell_type": "code",
   "execution_count": 18,
   "id": "0546acdc-ebf5-420f-9901-d20378ce12d7",
   "metadata": {},
   "outputs": [
    {
     "data": {
      "text/plain": [
       "2"
      ]
     },
     "execution_count": 18,
     "metadata": {},
     "output_type": "execute_result"
    }
   ],
   "source": [
    "MATRIX.ndim"
   ]
  },
  {
   "cell_type": "code",
   "execution_count": 22,
   "id": "ca3cc054-e029-4a6e-80c3-097f8f3abe3b",
   "metadata": {},
   "outputs": [
    {
     "data": {
      "text/plain": [
       "torch.Size([2, 2])"
      ]
     },
     "execution_count": 22,
     "metadata": {},
     "output_type": "execute_result"
    }
   ],
   "source": [
    "MATRIX.shape  # ( 2 rows, 2 columns) "
   ]
  },
  {
   "cell_type": "code",
   "execution_count": 23,
   "id": "0c7c1b3a-5df3-4c49-ac52-3810db28ce98",
   "metadata": {},
   "outputs": [
    {
     "data": {
      "text/plain": [
       "(tensor([7, 8]), tensor([ 9, 10]))"
      ]
     },
     "execution_count": 23,
     "metadata": {},
     "output_type": "execute_result"
    }
   ],
   "source": [
    "MATRIX[0], MATRIX[1]"
   ]
  },
  {
   "cell_type": "code",
   "execution_count": 25,
   "id": "4added46-1fbd-4f62-87f4-df38930431d4",
   "metadata": {},
   "outputs": [
    {
     "data": {
      "text/plain": [
       "tensor([[[1, 2, 3],\n",
       "         [3, 6, 8],\n",
       "         [3, 4, 1]]])"
      ]
     },
     "execution_count": 25,
     "metadata": {},
     "output_type": "execute_result"
    }
   ],
   "source": [
    "# TENSOR \n",
    "TENSOR = torch.tensor([[[1,2,3],\n",
    "                       [3,6,8],\n",
    "                       [3,4,1]]])\n",
    "TENSOR"
   ]
  },
  {
   "cell_type": "code",
   "execution_count": 26,
   "id": "4b59006d-8971-45cb-bd1e-54856c4dbca2",
   "metadata": {},
   "outputs": [
    {
     "data": {
      "text/plain": [
       "3"
      ]
     },
     "execution_count": 26,
     "metadata": {},
     "output_type": "execute_result"
    }
   ],
   "source": [
    "TENSOR.ndim"
   ]
  },
  {
   "cell_type": "code",
   "execution_count": 28,
   "id": "0f4dceeb-ea1d-4b8f-8012-8e31c96d5f7d",
   "metadata": {},
   "outputs": [
    {
     "data": {
      "text/plain": [
       "torch.Size([1, 3, 3])"
      ]
     },
     "execution_count": 28,
     "metadata": {},
     "output_type": "execute_result"
    }
   ],
   "source": [
    "TENSOR.shape # \"We have 1 Matrix of shape (2 rows, 2 columns)\""
   ]
  },
  {
   "cell_type": "code",
   "execution_count": 35,
   "id": "35207d6f-256b-4ed1-a9a3-85a21930f3e9",
   "metadata": {},
   "outputs": [
    {
     "data": {
      "text/plain": [
       "(tensor([[1, 2, 3],\n",
       "         [3, 6, 8],\n",
       "         [3, 4, 1]]),\n",
       " tensor([1, 2, 3]),\n",
       " tensor(3))"
      ]
     },
     "execution_count": 35,
     "metadata": {},
     "output_type": "execute_result"
    }
   ],
   "source": [
    "TENSOR[0], TENSOR[0,0], TENSOR[0,0,2]"
   ]
  },
  {
   "cell_type": "code",
   "execution_count": 53,
   "id": "15ce71cc-bcae-4080-8e62-d52dc427d9fc",
   "metadata": {},
   "outputs": [
    {
     "name": "stdout",
     "output_type": "stream",
     "text": [
      "tensor([[[ 1,  2,  3],\n",
      "         [ 4,  5,  6],\n",
      "         [ 7,  8,  9]],\n",
      "\n",
      "        [[10, 11, 12],\n",
      "         [13, 14, 15],\n",
      "         [16, 17, 18]]]) \n",
      " -> shape = (torch.Size([2, 3, 3])) \n",
      " -> dimension = (3)\n",
      "tensor([[1, 2, 3],\n",
      "        [4, 5, 6],\n",
      "        [7, 8, 9]])\n",
      "tensor([[10, 11, 12],\n",
      "        [13, 14, 15],\n",
      "        [16, 17, 18]])\n",
      "-> 2nd Column of Each (2 X 2) MATRIX\n",
      "tensor([[ 2, 11],\n",
      "        [ 5, 14],\n",
      "        [ 8, 17]])\n",
      "-> Last Element of Each (2 X 2) MATRIX\n",
      "tensor([ 9, 18])\n"
     ]
    }
   ],
   "source": [
    "# Some experiments with tensors \n",
    "TENSOR2 = torch.tensor([[[1, 2, 3],\n",
    "                        [4, 5, 6],\n",
    "                        [7, 8, 9]],\n",
    "                       [[10, 11, 12],\n",
    "                       [13, 14, 15],\n",
    "                       [16, 17, 18]]])\n",
    "\n",
    "print(TENSOR2, '\\n' , f'-> shape = ({TENSOR2.shape})', '\\n', f'-> dimension = ({TENSOR2.ndim})')\n",
    "print(TENSOR2[0])\n",
    "print(TENSOR2[1])\n",
    "print(\"-> 2nd Column of Each (2 X 2) MATRIX\")\n",
    "print(TENSOR2[:, :, 1].T)\n",
    "print('-> Last Element of Each (2 X 2) MATRIX')\n",
    "print(TENSOR2[:, 2, 2])"
   ]
  },
  {
   "cell_type": "markdown",
   "id": "173b75f6-d5ed-4f19-b825-1fb9e295523d",
   "metadata": {},
   "source": [
    "#### Random Tensors\n",
    "\n",
    "Why random tensors? \n",
    "\n",
    "Random tensors are important because the way many neural nets learn is that they start with tensors full of random numbers and then adjust those random numbers to better represent the data.\n",
    "\n",
    "`Start with random numbers -> look at data -> update random numbers -> look at data -> update random numbers`\n",
    "\n",
    "Torch random tensors - https://docs.pytorch.org/docs/stable/generated/torch.rand.html"
   ]
  },
  {
   "cell_type": "code",
   "execution_count": 57,
   "id": "325543bc-b955-4ac9-9b65-7c76563618d4",
   "metadata": {},
   "outputs": [
    {
     "data": {
      "text/plain": [
       "tensor([[0.4484, 0.8589, 0.8945, 0.8361],\n",
       "        [0.7564, 0.2229, 0.7941, 0.7160],\n",
       "        [0.2873, 0.0772, 0.3813, 0.2865]])"
      ]
     },
     "execution_count": 57,
     "metadata": {},
     "output_type": "execute_result"
    }
   ],
   "source": [
    "# Create a random tensor of size (3,4)\n",
    "random_tensor = torch.rand([3,4])\n",
    "random_tensor"
   ]
  },
  {
   "cell_type": "code",
   "execution_count": 59,
   "id": "1bc7966d-d5ed-42a6-aa82-727e9026dcf1",
   "metadata": {},
   "outputs": [
    {
     "data": {
      "text/plain": [
       "(2, torch.Size([3, 4]))"
      ]
     },
     "execution_count": 59,
     "metadata": {},
     "output_type": "execute_result"
    }
   ],
   "source": [
    "random_tensor.ndim, random_tensor.shape"
   ]
  },
  {
   "cell_type": "code",
   "execution_count": 65,
   "id": "9046ecec-1ac7-4b6e-b84c-50e0cb0e2ee9",
   "metadata": {},
   "outputs": [
    {
     "name": "stdout",
     "output_type": "stream",
     "text": [
      "tensor([[[[0.7094, 0.3375],\n",
      "          [0.3953, 0.0422]],\n",
      "\n",
      "         [[0.9392, 0.5415],\n",
      "          [0.8023, 0.3324]]],\n",
      "\n",
      "\n",
      "        [[[0.5865, 0.3555],\n",
      "          [0.0312, 0.8222]],\n",
      "\n",
      "         [[0.7178, 0.7088],\n",
      "          [0.3040, 0.3385]]]]) 4 torch.Size([2, 2, 2, 2])\n"
     ]
    }
   ],
   "source": [
    "# random tensor with multiple dimensions \n",
    "random_tensor_multidims = torch.rand([2,2,2,2]) # 4 dimension\n",
    "print(random_tensor_multidims, random_tensor_multidims.ndim, random_tensor_multidims.shape)"
   ]
  },
  {
   "cell_type": "code",
   "execution_count": 78,
   "id": "f9d35551-6a13-40a3-8bca-944d8a5610ef",
   "metadata": {},
   "outputs": [
    {
     "data": {
      "text/plain": [
       "(torch.Size([224, 224, 3]), 3)"
      ]
     },
     "execution_count": 78,
     "metadata": {},
     "output_type": "execute_result"
    }
   ],
   "source": [
    "# Create a random tensor with similar shape to an image tensor\n",
    "random_image_size_tensor = torch.rand(size=(224, 224, 3)) # height, width, color channel (R, G, B)\n",
    "random_image_size_tensor.shape, random_image_size_tensor.ndim"
   ]
  },
  {
   "cell_type": "code",
   "execution_count": 80,
   "id": "5e3a8151-0cb5-4fe1-bf00-eaa9797a030e",
   "metadata": {},
   "outputs": [
    {
     "data": {
      "text/plain": [
       "<matplotlib.image.AxesImage at 0x1ed219696f0>"
      ]
     },
     "execution_count": 80,
     "metadata": {},
     "output_type": "execute_result"
    },
    {
     "data": {
      "image/png": "[encoded data removed]",
      "text/plain": [
       "<Figure size 200x200 with 1 Axes>"
      ]
     },
     "metadata": {},
     "output_type": "display_data"
    }
   ],
   "source": [
    "# Let's see if we can plot this random image \n",
    "import matplotlib.pyplot as plt \n",
    "plt.figure(figsize=(2,2))\n",
    "plt.imshow(random_image_size_tensor)\n",
    "\n",
    "# Note : Matplotlib except color channel last."
   ]
  },
  {
   "cell_type": "markdown",
   "id": "831db576-c6dd-4c0c-8eb1-6e1ba3ab942c",
   "metadata": {},
   "source": [
    "#### Zeros And Ones Tensors"
   ]
  },
  {
   "cell_type": "code",
   "execution_count": 85,
   "id": "bb9a562f-44ea-4ef9-88d2-0e1a571e377b",
   "metadata": {},
   "outputs": [
    {
     "data": {
      "text/plain": [
       "(torch.Size([3, 4]),\n",
       " 2,\n",
       " tensor([[0., 0., 0., 0.],\n",
       "         [0., 0., 0., 0.],\n",
       "         [0., 0., 0., 0.]]))"
      ]
     },
     "execution_count": 85,
     "metadata": {},
     "output_type": "execute_result"
    }
   ],
   "source": [
    "# Create a tensor of all zeros \n",
    "zeros = torch.zeros(size=(3,4))\n",
    "zeros.shape, zeros.ndim, zeros"
   ]
  },
  {
   "cell_type": "code",
   "execution_count": 86,
   "id": "0d82b949-169e-41fe-9bcc-5772e0e772e2",
   "metadata": {},
   "outputs": [
    {
     "data": {
      "text/plain": [
       "tensor([[0., 0., 0., 0.],\n",
       "        [0., 0., 0., 0.],\n",
       "        [0., 0., 0., 0.]])"
      ]
     },
     "execution_count": 86,
     "metadata": {},
     "output_type": "execute_result"
    }
   ],
   "source": [
    "zeros * random_tensor"
   ]
  },
  {
   "cell_type": "code",
   "execution_count": 89,
   "id": "14bf68df-5c5e-4fda-9fb9-f439de3c0b29",
   "metadata": {},
   "outputs": [
    {
     "data": {
      "text/plain": [
       "tensor([[1., 1., 1., 1.],\n",
       "        [1., 1., 1., 1.],\n",
       "        [1., 1., 1., 1.]])"
      ]
     },
     "execution_count": 89,
     "metadata": {},
     "output_type": "execute_result"
    }
   ],
   "source": [
    "# Create a tensor of all ones \n",
    "ones = torch.ones(size=(3, 4))\n",
    "ones"
   ]
  },
  {
   "cell_type": "code",
   "execution_count": 92,
   "id": "ba7be81b-6e85-4f96-afca-956c70b113da",
   "metadata": {},
   "outputs": [
    {
     "data": {
      "text/plain": [
       "torch.float32"
      ]
     },
     "execution_count": 92,
     "metadata": {},
     "output_type": "execute_result"
    }
   ],
   "source": [
    "ones.dtype"
   ]
  },
  {
   "cell_type": "markdown",
   "id": "3b99d0a8-0ede-4423-8a88-5155c0bd12cc",
   "metadata": {},
   "source": [
    "#### Creating a range of tensors and tensors-like"
   ]
  },
  {
   "cell_type": "code",
   "execution_count": 105,
   "id": "01f5b6c0-bed9-45a3-b847-f2d4dc46345c",
   "metadata": {},
   "outputs": [
    {
     "data": {
      "text/plain": [
       "tensor([ 0,  1,  2,  3,  4,  5,  6,  7,  8,  9, 10])"
      ]
     },
     "execution_count": 105,
     "metadata": {},
     "output_type": "execute_result"
    }
   ],
   "source": [
    "# Use torch.arange()\n",
    "one_to_ten = torch.arange(start=0, end=11, step=1)\n",
    "one_to_ten"
   ]
  },
  {
   "cell_type": "code",
   "execution_count": 108,
   "id": "172e7acf-208f-47d5-80c3-b99eb74efa05",
   "metadata": {},
   "outputs": [
    {
     "data": {
      "text/plain": [
       "tensor([0, 0, 0, 0, 0, 0, 0, 0, 0, 0, 0])"
      ]
     },
     "execution_count": 108,
     "metadata": {},
     "output_type": "execute_result"
    }
   ],
   "source": [
    "# Creating tensors like \n",
    "ten_zeros = torch.zeros_like(one_to_ten)\n",
    "ten_zeros "
   ]
  },
  {
   "cell_type": "code",
   "execution_count": 111,
   "id": "c2065182-93ca-4f05-ae88-c5483aac734b",
   "metadata": {},
   "outputs": [
    {
     "data": {
      "text/plain": [
       "tensor([1, 1, 1, 1, 1, 1, 1, 1, 1, 1, 1])"
      ]
     },
     "execution_count": 111,
     "metadata": {},
     "output_type": "execute_result"
    }
   ],
   "source": [
    "ten_ones = torch.ones_like(one_to_ten)\n",
    "ten_ones"
   ]
  },
  {
   "cell_type": "markdown",
   "id": "33e61eac-0369-487a-b60c-9e387fcbaacf",
   "metadata": {},
   "source": [
    "#### Tensor DataTypes\n",
    "\n",
    "**Note:** Tensor Datatypes is one of the 3 big errors you'll run into with PyTorch & Deep Learning\n",
    "\n",
    "**1. Tensor not right datatype**\n",
    "\n",
    "**2. Tensor not right shape**\n",
    "\n",
    "**3. Tensor not right device**"
   ]
  },
  {
   "cell_type": "code",
   "execution_count": 112,
   "id": "b8e71633-2f1f-41b3-89b8-fb87c1b28a5d",
   "metadata": {},
   "outputs": [
    {
     "data": {
      "text/plain": [
       "tensor([3., 6., 9.])"
      ]
     },
     "execution_count": 112,
     "metadata": {},
     "output_type": "execute_result"
    }
   ],
   "source": [
    "# Float 32 tensor \n",
    "float_32_tensor = torch.tensor([3.0, 6.0, 9.0],\n",
    "                              dtype=None)\n",
    "float_32_tensor"
   ]
  },
  {
   "cell_type": "code",
   "execution_count": 113,
   "id": "dd5b5113-4aac-416b-8e12-b6d6052363d0",
   "metadata": {},
   "outputs": [
    {
     "data": {
      "text/plain": [
       "torch.float32"
      ]
     },
     "execution_count": 113,
     "metadata": {},
     "output_type": "execute_result"
    }
   ],
   "source": [
    "float_32_tensor.dtype # by default datatype is float32"
   ]
  },
  {
   "cell_type": "code",
   "execution_count": 118,
   "id": "00f5c4e0-ade2-4885-b170-a70cbbeaa527",
   "metadata": {},
   "outputs": [
    {
     "data": {
      "text/plain": [
       "(tensor([3., 6., 9.], dtype=torch.float16), torch.float16)"
      ]
     },
     "execution_count": 118,
     "metadata": {},
     "output_type": "execute_result"
    }
   ],
   "source": [
    "float_16_tensor = float_32_tensor.type(torch.half) # torch.float16 == torch.half\n",
    "float_16_tensor, float_16_tensor.dtype"
   ]
  },
  {
   "cell_type": "code",
   "execution_count": 117,
   "id": "9a8d2c78-1b6d-4af8-b471-a29790661f66",
   "metadata": {},
   "outputs": [
    {
     "data": {
      "text/plain": [
       "tensor([1., 2., 3.], dtype=torch.float64)"
      ]
     },
     "execution_count": 117,
     "metadata": {},
     "output_type": "execute_result"
    }
   ],
   "source": [
    "# Float 64\n",
    "float_64_tensor = torch.tensor([1,2,3], \n",
    "                              dtype=torch.float64, # What is the datatype (e.g float32, float16 ....)\n",
    "                              device='cpu', # What device is your tensor on?\n",
    "                              requires_grad=False) # Whether or not to track gradients with this tensor operation\n",
    "float_64_tensor"
   ]
  },
  {
   "cell_type": "code",
   "execution_count": 119,
   "id": "6e0cefa7-8b40-49e8-8665-f7f99357cd5b",
   "metadata": {},
   "outputs": [
    {
     "data": {
      "text/plain": [
       "tensor([ 9., 36., 81.])"
      ]
     },
     "execution_count": 119,
     "metadata": {},
     "output_type": "execute_result"
    }
   ],
   "source": [
    "float_16_tensor * float_32_tensor"
   ]
  },
  {
   "cell_type": "code",
   "execution_count": 120,
   "id": "77b4cd2b-864c-47ce-8233-8e6073d389c9",
   "metadata": {},
   "outputs": [
    {
     "data": {
      "text/plain": [
       "tensor([3, 6, 9], dtype=torch.int32)"
      ]
     },
     "execution_count": 120,
     "metadata": {},
     "output_type": "execute_result"
    }
   ],
   "source": [
    "int_32_tensor = torch.tensor([3, 6, 9], dtype=torch.int32)\n",
    "int_32_tensor"
   ]
  },
  {
   "cell_type": "markdown",
   "id": "c022ab19-0bea-4e7f-96f7-c6d45deb6fb5",
   "metadata": {},
   "source": [
    "#### Getting information from tensors\n",
    "\n",
    "1. Tensor not right datatype - to get datatype from a tensor, can use `tensor.dtype`\n",
    "2. Tensor not right shape - to get shape from a tensor, can use `tensor.shape`\n",
    "3. Tensor not on the right device - to get device from tensor, can use `tensor.device`"
   ]
  },
  {
   "cell_type": "code",
   "execution_count": 132,
   "id": "47ad17ac-bba7-4c71-ba49-a013a3de30bc",
   "metadata": {},
   "outputs": [
    {
     "data": {
      "text/plain": [
       "tensor([[[0.4432, 0.9973, 0.3504, 0.5180],\n",
       "         [0.2435, 0.2019, 0.4676, 0.2110],\n",
       "         [0.1527, 0.8767, 0.6670, 0.3316]],\n",
       "\n",
       "        [[0.8800, 0.4652, 0.3551, 0.6080],\n",
       "         [0.3194, 0.6500, 0.9391, 0.5190],\n",
       "         [0.9053, 0.1260, 0.7667, 0.0537]]], dtype=torch.float64)"
      ]
     },
     "execution_count": 132,
     "metadata": {},
     "output_type": "execute_result"
    }
   ],
   "source": [
    "# Create a tensor \n",
    "some_tensor = torch.rand(2, 3, 4, dtype=torch.double, device='cpu')\n",
    "some_tensor"
   ]
  },
  {
   "cell_type": "code",
   "execution_count": 133,
   "id": "889dc474-9b5c-4365-8728-c3988e65f457",
   "metadata": {},
   "outputs": [
    {
     "name": "stdout",
     "output_type": "stream",
     "text": [
      "tensor([[[0.4432, 0.9973, 0.3504, 0.5180],\n",
      "         [0.2435, 0.2019, 0.4676, 0.2110],\n",
      "         [0.1527, 0.8767, 0.6670, 0.3316]],\n",
      "\n",
      "        [[0.8800, 0.4652, 0.3551, 0.6080],\n",
      "         [0.3194, 0.6500, 0.9391, 0.5190],\n",
      "         [0.9053, 0.1260, 0.7667, 0.0537]]], dtype=torch.float64)\n",
      "Datatype of tensor: torch.float64\n",
      "Shape of tensor: torch.Size([2, 3, 4])\n",
      "device tensor is on: cpu\n"
     ]
    }
   ],
   "source": [
    "# Find out details about some tensor \n",
    "print(some_tensor)\n",
    "print(f'Datatype of tensor: {some_tensor.dtype}')\n",
    "print(f'Shape of tensor: {some_tensor.shape}')\n",
    "print(f'device tensor is on: {some_tensor.device}')"
   ]
  },
  {
   "cell_type": "markdown",
   "id": "b8731f58-7543-4773-afc5-13092fea1d1a",
   "metadata": {},
   "source": [
    "#### Manipulating Tensors (tensor operations)\n",
    "\n",
    "Tensor operations include:\n",
    "* Addition\n",
    "* Subtraction\n",
    "* Multiplication (element-wise)\n",
    "* Division\n",
    "* Matrix Multiplication "
   ]
  },
  {
   "cell_type": "code",
   "execution_count": 137,
   "id": "8da3b29d-6f07-4e79-9a89-2028db5aa565",
   "metadata": {},
   "outputs": [
    {
     "data": {
      "text/plain": [
       "(tensor([1, 2, 3]), tensor([11, 12, 13]))"
      ]
     },
     "execution_count": 137,
     "metadata": {},
     "output_type": "execute_result"
    }
   ],
   "source": [
    "# Create a tensor and add 10 to it.\n",
    "tensor = torch.tensor([1, 2, 3])\n",
    "tensor, tensor + 10"
   ]
  },
  {
   "cell_type": "code",
   "execution_count": 140,
   "id": "e9891ca3-41d4-422a-8698-38aeba05c038",
   "metadata": {},
   "outputs": [
    {
     "data": {
      "text/plain": [
       "(tensor([1, 2, 3]), tensor([10, 20, 30]), tensor([1, 2, 3]))"
      ]
     },
     "execution_count": 140,
     "metadata": {},
     "output_type": "execute_result"
    }
   ],
   "source": [
    "# Multiply tensor by 10 \n",
    "tensor, tensor * 10, tensor # tensor still remains the same"
   ]
  },
  {
   "cell_type": "code",
   "execution_count": 141,
   "id": "fbf05eb3-2ff6-477b-b2cc-08786208a9c8",
   "metadata": {},
   "outputs": [
    {
     "data": {
      "text/plain": [
       "tensor([-9, -8, -7])"
      ]
     },
     "execution_count": 141,
     "metadata": {},
     "output_type": "execute_result"
    }
   ],
   "source": [
    "# Subtract 10 \n",
    "tensor - 10"
   ]
  },
  {
   "cell_type": "code",
   "execution_count": 144,
   "id": "297a6a4a-7959-4658-9fcf-ce2508a0570a",
   "metadata": {},
   "outputs": [
    {
     "name": "stdout",
     "output_type": "stream",
     "text": [
      "tensor([10, 20, 30]) tensor([10, 20, 30])\n",
      "tensor([11, 12, 13]) tensor([11, 12, 13])\n"
     ]
    }
   ],
   "source": [
    "# Try out PyTorch in-build functions \n",
    "print(torch.mul(tensor, 10), tensor * 10)\n",
    "print(torch.add(tensor, 10), tensor + 10)"
   ]
  },
  {
   "cell_type": "markdown",
   "id": "42ba75e6-ded8-42d7-bfbf-4501494c251f",
   "metadata": {},
   "source": [
    "#### Matrix multiplication\n",
    "\n",
    "Two main ways of performing multiplicatin in NN and Deep Learning:\n",
    "\n",
    "1. Element-wise multiplication\n",
    "2. Matrix Multiplication\n",
    "\n",
    "There are two main rules that performing matrix multiplication needs to satisfy:\n",
    "1. The **inner dimensions** must match:\n",
    "    * `(3, 2) @ (3, 2)` won't work\n",
    "    * `(2, 3) @ (3, 2)` will work\n",
    "2. The resulting matrix has the shape of the **outer dimension**:\n",
    "    * `(2 ,3)  @ (3, 2)` -> `(2, 2)`"
   ]
  },
  {
   "cell_type": "code",
   "execution_count": 155,
   "id": "3ebfe0f3-88b8-4005-a3b4-1b3ee00fc265",
   "metadata": {},
   "outputs": [
    {
     "name": "stdout",
     "output_type": "stream",
     "text": [
      "tensor([1, 2, 3]) * tensor([1, 2, 3])\n",
      "Equals: tensor([1, 4, 9])\n"
     ]
    }
   ],
   "source": [
    "# ELement wise multiplication\n",
    "print(tensor, '*', tensor)\n",
    "print(f'Equals: {tensor * tensor}')"
   ]
  },
  {
   "cell_type": "code",
   "execution_count": 156,
   "id": "e6ff9a26-29aa-4244-b01c-a8d7888766cb",
   "metadata": {},
   "outputs": [
    {
     "name": "stdout",
     "output_type": "stream",
     "text": [
      "Result of A * B:\n",
      " tensor([[ 58.,  64.],\n",
      "        [139., 154.]])\n"
     ]
    }
   ],
   "source": [
    "# Matrix Multiplication from scratch\n",
    "A = torch.tensor([[1,2,3],\n",
    "                     [4,5,6]])\n",
    "B = torch.tensor([[7,8],\n",
    "                    [9,10],\n",
    "                    [11,12]])\n",
    "\n",
    "# Get the dimensions\n",
    "m, n = A.shape\n",
    "n2, p = B.shape\n",
    "\n",
    "# Check if inner dimensions match\n",
    "assert n == n2, \"Inner matrix dimensions must match for multiplication.\"\n",
    "\n",
    "# Initialize the result matrix with zeros (m x p)\n",
    "result = torch.zeros((m, p))\n",
    "\n",
    "# Perform matrix multiplication manually\n",
    "for i in range(m):            # Loop over rows of A\n",
    "    for j in range(p):        # Loop over columns of B\n",
    "        for k in range(n):    # Loop over columns of A / rows of B\n",
    "            result[i][j] += A[i][k] * B[k][j]\n",
    "\n",
    "print(\"Result of A * B:\\n\", result)\n",
    "        "
   ]
  },
  {
   "cell_type": "code",
   "execution_count": 157,
   "id": "e5c8011a-7ba6-4a32-a60b-43b185467a6d",
   "metadata": {},
   "outputs": [
    {
     "data": {
      "text/plain": [
       "tensor([[ 58,  64],\n",
       "        [139, 154]])"
      ]
     },
     "execution_count": 157,
     "metadata": {},
     "output_type": "execute_result"
    }
   ],
   "source": [
    "# Matrix Multiplication\n",
    "torch.matmul(A, B)"
   ]
  },
  {
   "cell_type": "markdown",
   "id": "05d36fab-e7e6-46cc-9ce3-58aca74bb183",
   "metadata": {},
   "source": [
    "let's check the difference in timings of using matmul from scratch or pytorch"
   ]
  },
  {
   "cell_type": "code",
   "execution_count": 159,
   "id": "ddc70033-80b7-4265-a18a-45c703a933a9",
   "metadata": {},
   "outputs": [
    {
     "name": "stdout",
     "output_type": "stream",
     "text": [
      "Result of A * B:\n",
      " tensor([[ 58.,  64.],\n",
      "        [139., 154.]])\n",
      "CPU times: total: 0 ns\n",
      "Wall time: 2.52 ms\n"
     ]
    }
   ],
   "source": [
    "%%time\n",
    "result = torch.zeros((m, p))\n",
    "\n",
    "# Perform matrix multiplication manually\n",
    "for i in range(m):            \n",
    "    for j in range(p):        \n",
    "        for k in range(n):    \n",
    "            result[i][j] += A[i][k] * B[k][j]\n",
    "\n",
    "print(\"Result of A * B:\\n\", result)\n",
    "\n"
   ]
  },
  {
   "cell_type": "code",
   "execution_count": 160,
   "id": "2aa27437-885b-485f-bc7b-fe33917d42d3",
   "metadata": {},
   "outputs": [
    {
     "name": "stdout",
     "output_type": "stream",
     "text": [
      "CPU times: total: 0 ns\n",
      "Wall time: 0 ns\n"
     ]
    },
    {
     "data": {
      "text/plain": [
       "tensor([[ 58,  64],\n",
       "        [139, 154]])"
      ]
     },
     "execution_count": 160,
     "metadata": {},
     "output_type": "execute_result"
    }
   ],
   "source": [
    "%%time \n",
    "torch.matmul(A, B) # Can easily see the difference it's way more faster than you can imagine"
   ]
  },
  {
   "cell_type": "markdown",
   "id": "9ba23365-261c-4a14-a761-82b9527e1d4f",
   "metadata": {},
   "source": [
    "**Note: One of the most common errors in deep learning: Shape Errors**"
   ]
  },
  {
   "cell_type": "code",
   "execution_count": 166,
   "id": "894cea37-f66f-493c-83b0-9fe679bc2990",
   "metadata": {},
   "outputs": [
    {
     "ename": "RuntimeError",
     "evalue": "mat1 and mat2 shapes cannot be multiplied (3x2 and 3x2)",
     "output_type": "error",
     "traceback": [
      "\u001b[1;31m---------------------------------------------------------------------------\u001b[0m",
      "\u001b[1;31mRuntimeError\u001b[0m                              Traceback (most recent call last)",
      "Cell \u001b[1;32mIn[166], line 10\u001b[0m\n\u001b[0;32m      2\u001b[0m tensor_A \u001b[38;5;241m=\u001b[39m torch\u001b[38;5;241m.\u001b[39mtensor([[\u001b[38;5;241m1\u001b[39m,\u001b[38;5;241m2\u001b[39m],\n\u001b[0;32m      3\u001b[0m                          [\u001b[38;5;241m3\u001b[39m,\u001b[38;5;241m4\u001b[39m],\n\u001b[0;32m      4\u001b[0m                          [\u001b[38;5;241m5\u001b[39m,\u001b[38;5;241m6\u001b[39m]])\n\u001b[0;32m      6\u001b[0m tensor_B \u001b[38;5;241m=\u001b[39m torch\u001b[38;5;241m.\u001b[39mtensor([[\u001b[38;5;241m7\u001b[39m, \u001b[38;5;241m10\u001b[39m],\n\u001b[0;32m      7\u001b[0m                         [\u001b[38;5;241m8\u001b[39m, \u001b[38;5;241m11\u001b[39m],\n\u001b[0;32m      8\u001b[0m                         [\u001b[38;5;241m9\u001b[39m, \u001b[38;5;241m12\u001b[39m]])\n\u001b[1;32m---> 10\u001b[0m \u001b[43mtensor_A\u001b[49m\u001b[43m \u001b[49m\u001b[38;5;241;43m@\u001b[39;49m\u001b[43m \u001b[49m\u001b[43mtensor_B\u001b[49m\n",
      "\u001b[1;31mRuntimeError\u001b[0m: mat1 and mat2 shapes cannot be multiplied (3x2 and 3x2)"
     ]
    }
   ],
   "source": [
    "# Shapes for matrix multiplication\n",
    "tensor_A = torch.tensor([[1,2],\n",
    "                         [3,4],\n",
    "                         [5,6]])\n",
    "\n",
    "tensor_B = torch.tensor([[7, 10],\n",
    "                        [8, 11],\n",
    "                        [9, 12]])\n",
    "\n",
    "tensor_A @ tensor_B"
   ]
  },
  {
   "cell_type": "code",
   "execution_count": 167,
   "id": "5d5952f1-6209-4489-936f-23d398918a4d",
   "metadata": {},
   "outputs": [
    {
     "name": "stdout",
     "output_type": "stream",
     "text": [
      "torch.Size([3, 2]) torch.Size([3, 2])\n"
     ]
    }
   ],
   "source": [
    "print(tensor_A.shape, tensor_B.shape) # inner dims are not same"
   ]
  },
  {
   "cell_type": "markdown",
   "id": "8e7b4f85-e694-4cae-820b-c0492add79b2",
   "metadata": {},
   "source": [
    "To fix our tensor shape issues, we can manipulate the shape of one of our tensors using a **Transpose**\n",
    "\n",
    "A **Transpose** switches the axes or dimensions of a given tensor"
   ]
  },
  {
   "cell_type": "code",
   "execution_count": 168,
   "id": "2672b25d-2fac-4971-b32c-534ff95e241d",
   "metadata": {},
   "outputs": [
    {
     "data": {
      "text/plain": [
       "tensor([[ 7,  8,  9],\n",
       "        [10, 11, 12]])"
      ]
     },
     "execution_count": 168,
     "metadata": {},
     "output_type": "execute_result"
    }
   ],
   "source": [
    "tensor_B.T"
   ]
  },
  {
   "cell_type": "code",
   "execution_count": 170,
   "id": "18f46f7f-1b24-4da4-9859-f3133331116e",
   "metadata": {},
   "outputs": [
    {
     "data": {
      "text/plain": [
       "tensor([[1, 2],\n",
       "        [3, 4],\n",
       "        [5, 6]])"
      ]
     },
     "execution_count": 170,
     "metadata": {},
     "output_type": "execute_result"
    }
   ],
   "source": [
    "tensor_A "
   ]
  },
  {
   "cell_type": "code",
   "execution_count": 179,
   "id": "29de7a8d-f7fd-4064-b656-3c0bd73c6e64",
   "metadata": {},
   "outputs": [
    {
     "name": "stdout",
     "output_type": "stream",
     "text": [
      "Original shapes: tensor_A = torch.Size([3, 2]), tensor_B = torch.Size([3, 2])\n",
      "New Shapes: tensor_A = torch.Size([3, 2]), tensor_B.T = torch.Size([2, 3])\n",
      "Multiplying: torch.Size([3, 2]) @ torch.Size([2, 3]) <- inner dims must match\n",
      "Output:\n",
      "\n",
      "tensor([[ 27,  30,  33],\n",
      "        [ 61,  68,  75],\n",
      "        [ 95, 106, 117]])\n",
      "\n",
      "Output shape: torch.Size([3, 3])\n"
     ]
    }
   ],
   "source": [
    "# The matrix multiplication operation works when tensor_B is transposed \n",
    "print(f'Original shapes: tensor_A = {tensor_A.shape}, tensor_B = {tensor_B.shape}')\n",
    "print(f'New Shapes: tensor_A = {tensor_A.shape}, tensor_B.T = {tensor_B.T.shape}')\n",
    "print(f'Multiplying: {tensor_A.shape} @ {tensor_B.T.shape} <- inner dims must match')\n",
    "print('Output:\\n')\n",
    "output = tensor_A @ tensor_B.T\n",
    "print(output)\n",
    "print(f'\\nOutput shape: {output.shape}')"
   ]
  },
  {
   "cell_type": "code",
   "execution_count": 185,
   "id": "31d7e562-2e52-422c-9256-794cfc89d56a",
   "metadata": {},
   "outputs": [
    {
     "name": "stdout",
     "output_type": "stream",
     "text": [
      "Results When B is Transposed\n",
      "tensor([[0.8401, 0.9351],\n",
      "        [0.7652, 1.2100]])\n",
      "Results When A is Transposed\n",
      "tensor([[0.2622, 0.3914, 0.1173],\n",
      "        [1.1479, 0.8443, 1.0948],\n",
      "        [0.8293, 0.3818, 0.9436]])\n"
     ]
    }
   ],
   "source": [
    "# Experimentations\n",
    "A = torch.rand(2,3)\n",
    "B = torch.rand(2,3)\n",
    "print(\"Results When B is Transposed\")\n",
    "print(A @ B.T) # (2,3) @ (3,2) => (2,2)\n",
    "print('Results When A is Transposed')\n",
    "print(A.T @ B) # (3,2) @ (2, 3) => (3,3)"
   ]
  },
  {
   "cell_type": "code",
   "execution_count": 206,
   "id": "28b963ba-9366-44a6-a216-e5874400664b",
   "metadata": {},
   "outputs": [
    {
     "name": "stdout",
     "output_type": "stream",
     "text": [
      "tensor([[[[0.1796, 0.9978, 0.1864],\n",
      "          [0.7141, 0.2636, 0.4081]],\n",
      "\n",
      "         [[0.5408, 0.0497, 0.0622],\n",
      "          [0.4772, 0.0529, 0.1633]],\n",
      "\n",
      "         [[0.6889, 0.6958, 0.5900],\n",
      "          [0.2375, 0.6058, 0.7399]]],\n",
      "\n",
      "\n",
      "        [[[0.2002, 0.7704, 0.7536],\n",
      "          [0.9260, 0.7866, 0.1180]],\n",
      "\n",
      "         [[0.3628, 0.0684, 0.5814],\n",
      "          [0.7994, 0.2130, 0.9015]],\n",
      "\n",
      "         [[0.9426, 0.7887, 0.8117],\n",
      "          [0.4006, 0.5116, 0.4072]]]]) torch.Size([2, 3, 2, 3])\n",
      "\n",
      "tensor([[[[0.7592, 0.2847],\n",
      "          [0.3790, 0.4343],\n",
      "          [0.0439, 0.8929]],\n",
      "\n",
      "         [[0.3673, 0.6679],\n",
      "          [0.0056, 0.1152],\n",
      "          [0.5650, 0.4284]],\n",
      "\n",
      "         [[0.5998, 0.5788],\n",
      "          [0.1624, 0.0811],\n",
      "          [0.0575, 0.0501]]],\n",
      "\n",
      "\n",
      "        [[[0.5627, 0.2354],\n",
      "          [0.2031, 0.8120],\n",
      "          [0.2195, 0.3409]],\n",
      "\n",
      "         [[0.4166, 0.6698],\n",
      "          [0.9348, 0.1996],\n",
      "          [0.3798, 0.2068]],\n",
      "\n",
      "         [[0.7657, 0.3897],\n",
      "          [0.6176, 0.2320],\n",
      "          [0.6051, 0.1436]]]]) torch.Size([2, 3, 3, 2])\n"
     ]
    }
   ],
   "source": [
    "\n",
    "C = torch.rand(2,3,2,3)\n",
    "D = torch.rand(2,3,3,2)\n",
    "print(C, C.shape)\n",
    "print()\n",
    "print(D, D.shape)"
   ]
  },
  {
   "cell_type": "code",
   "execution_count": 207,
   "id": "5788af48-230a-4299-84fc-a7e0576c448d",
   "metadata": {},
   "outputs": [],
   "source": [
    "\n",
    "# Shape: (2, 3, 2, 3)\n",
    "C = torch.tensor([\n",
    "    [   # batch 0\n",
    "        [[1, 2, 3],\n",
    "         [4, 5, 6]],\n",
    "\n",
    "        [[7, 8, 9],\n",
    "         [10, 11, 12]],\n",
    "\n",
    "        [[13, 14, 15],\n",
    "         [16, 17, 18]]\n",
    "    ],\n",
    "    [   # batch 1\n",
    "        [[19, 20, 21],\n",
    "         [22, 23, 24]],\n",
    "\n",
    "        [[25, 26, 27],\n",
    "         [28, 29, 30]],\n",
    "\n",
    "        [[31, 32, 33],\n",
    "         [34, 35, 36]]\n",
    "    ]\n",
    "], dtype=torch.float32)\n",
    "\n",
    "# Shape: (2, 3, 3, 2)\n",
    "D = torch.tensor([\n",
    "    [   # batch 0\n",
    "        [[1, 2],\n",
    "         [3, 4],\n",
    "         [5, 6]],\n",
    "\n",
    "        [[6, 5],\n",
    "         [4, 3],\n",
    "         [2, 1]],\n",
    "\n",
    "        [[1, 1],\n",
    "         [1, 1],\n",
    "         [1, 1]]\n",
    "    ],\n",
    "    [   # batch 1\n",
    "        [[2, 1],\n",
    "         [0, 1],\n",
    "         [1, 0]],\n",
    "\n",
    "        [[1, 2],\n",
    "         [0, 1],\n",
    "         [2, 0]],\n",
    "\n",
    "        [[3, 1],\n",
    "         [2, 0],\n",
    "         [1, 2]]\n",
    "    ]\n",
    "], dtype=torch.float32)\n"
   ]
  },
  {
   "cell_type": "code",
   "execution_count": 208,
   "id": "380b53a5-f5f8-4caa-8767-ec824132f8e8",
   "metadata": {},
   "outputs": [
    {
     "data": {
      "text/plain": [
       "tensor([[[[ 22.,  28.],\n",
       "          [ 49.,  64.]],\n",
       "\n",
       "         [[ 92.,  68.],\n",
       "          [128.,  95.]],\n",
       "\n",
       "         [[ 42.,  42.],\n",
       "          [ 51.,  51.]]],\n",
       "\n",
       "\n",
       "        [[[ 59.,  39.],\n",
       "          [ 68.,  45.]],\n",
       "\n",
       "         [[ 79.,  76.],\n",
       "          [ 88.,  85.]],\n",
       "\n",
       "         [[190.,  97.],\n",
       "          [208., 106.]]]])"
      ]
     },
     "execution_count": 208,
     "metadata": {},
     "output_type": "execute_result"
    }
   ],
   "source": [
    "C @ D"
   ]
  },
  {
   "cell_type": "code",
   "execution_count": 211,
   "id": "cc9dfac5-f2fc-4250-a33a-30879a465491",
   "metadata": {},
   "outputs": [
    {
     "data": {
      "text/plain": [
       "(tensor([[1., 2., 3.],\n",
       "         [4., 5., 6.]]),\n",
       " tensor([[1., 2.],\n",
       "         [3., 4.],\n",
       "         [5., 6.]]),\n",
       " tensor([[22., 28.],\n",
       "         [49., 64.]]))"
      ]
     },
     "execution_count": 211,
     "metadata": {},
     "output_type": "execute_result"
    }
   ],
   "source": [
    "C[0,0], D[0,0], C[0,0] @ D[0,0]"
   ]
  },
  {
   "cell_type": "markdown",
   "id": "7efcfafc-ff31-4380-8718-f2071009fa9f",
   "metadata": {},
   "source": [
    "#### Finding the min, max, mean, sum etc (tensor aggregation)"
   ]
  },
  {
   "cell_type": "code",
   "execution_count": 219,
   "id": "3bae5a3a-1198-4539-9473-a098a7564ba0",
   "metadata": {},
   "outputs": [
    {
     "data": {
      "text/plain": [
       "(tensor([  0,  10,  20,  30,  40,  50,  60,  70,  80,  90, 100]), torch.int64)"
      ]
     },
     "execution_count": 219,
     "metadata": {},
     "output_type": "execute_result"
    }
   ],
   "source": [
    "# Create a tensor\n",
    "x = torch.arange(0,101,10)\n",
    "x, x.dtype"
   ]
  },
  {
   "cell_type": "code",
   "execution_count": 213,
   "id": "29d8d6e9-aa34-40cd-816b-cf600e7cf98d",
   "metadata": {},
   "outputs": [
    {
     "data": {
      "text/plain": [
       "(tensor(0), tensor(0))"
      ]
     },
     "execution_count": 213,
     "metadata": {},
     "output_type": "execute_result"
    }
   ],
   "source": [
    "# Find the min \n",
    "torch.min(x), x.min()"
   ]
  },
  {
   "cell_type": "code",
   "execution_count": 214,
   "id": "db3df1ba-14f7-4a49-80b4-83cd9294ff50",
   "metadata": {},
   "outputs": [
    {
     "data": {
      "text/plain": [
       "(tensor(100), tensor(100))"
      ]
     },
     "execution_count": 214,
     "metadata": {},
     "output_type": "execute_result"
    }
   ],
   "source": [
    "# Find the max \n",
    "torch.max(x), x.max()"
   ]
  },
  {
   "cell_type": "code",
   "execution_count": 218,
   "id": "314ca1ad-0b95-401b-8bc3-cd780bf32af2",
   "metadata": {},
   "outputs": [
    {
     "name": "stdout",
     "output_type": "stream",
     "text": [
      "torch.int64\n"
     ]
    },
    {
     "ename": "RuntimeError",
     "evalue": "mean(): could not infer output dtype. Input dtype must be either a floating point or complex dtype. Got: Long",
     "output_type": "error",
     "traceback": [
      "\u001b[1;31m---------------------------------------------------------------------------\u001b[0m",
      "\u001b[1;31mRuntimeError\u001b[0m                              Traceback (most recent call last)",
      "Cell \u001b[1;32mIn[218], line 3\u001b[0m\n\u001b[0;32m      1\u001b[0m \u001b[38;5;66;03m# Find the average\u001b[39;00m\n\u001b[0;32m      2\u001b[0m \u001b[38;5;28mprint\u001b[39m(x\u001b[38;5;241m.\u001b[39mdtype)\n\u001b[1;32m----> 3\u001b[0m \u001b[38;5;28mprint\u001b[39m(\u001b[43mtorch\u001b[49m\u001b[38;5;241;43m.\u001b[39;49m\u001b[43mmean\u001b[49m\u001b[43m(\u001b[49m\u001b[43mx\u001b[49m\u001b[43m)\u001b[49m)\n",
      "\u001b[1;31mRuntimeError\u001b[0m: mean(): could not infer output dtype. Input dtype must be either a floating point or complex dtype. Got: Long"
     ]
    }
   ],
   "source": [
    "# Find the average\n",
    "print(x.dtype)\n",
    "print(torch.mean(x))"
   ]
  },
  {
   "cell_type": "markdown",
   "id": "15b655ea-56e5-411f-a25b-39b45c43b39f",
   "metadata": {},
   "source": [
    "**Note: torch.mean() function requires a tensor of float32 dtype ot work**"
   ]
  },
  {
   "cell_type": "code",
   "execution_count": 224,
   "id": "17bd2c93-b185-43e6-bcac-284828b5d2e3",
   "metadata": {},
   "outputs": [
    {
     "name": "stdout",
     "output_type": "stream",
     "text": [
      "tensor(50.) tensor(50.)\n"
     ]
    }
   ],
   "source": [
    "# Convert it to float32 \n",
    "print(torch.mean(x.type(torch.float32)), x.type(torch.float32).mean())"
   ]
  },
  {
   "cell_type": "code",
   "execution_count": 226,
   "id": "ccc796ec-f1b9-422f-906f-27f6e91f3c78",
   "metadata": {},
   "outputs": [
    {
     "data": {
      "text/plain": [
       "(tensor(550), tensor(550))"
      ]
     },
     "execution_count": 226,
     "metadata": {},
     "output_type": "execute_result"
    }
   ],
   "source": [
    "# Find the sum \n",
    "torch.sum(x), x.sum()"
   ]
  },
  {
   "cell_type": "markdown",
   "id": "27f450a7-2d31-4285-9407-d952c7772de8",
   "metadata": {},
   "source": [
    "#### Finding the positional min and max \n"
   ]
  },
  {
   "cell_type": "code",
   "execution_count": 232,
   "id": "6cb0358c-d8e2-4425-8d91-f91a885960f1",
   "metadata": {},
   "outputs": [
    {
     "data": {
      "text/plain": [
       "(tensor([  0,  10,  20,  30,  40,  50,  60,  70,  80,  90, 100]),\n",
       " tensor(0),\n",
       " tensor(0))"
      ]
     },
     "execution_count": 232,
     "metadata": {},
     "output_type": "execute_result"
    }
   ],
   "source": [
    "# Find the pos in tensor that has minimum value argmin() -> returns index position of target tensor where minimum value occurs\n",
    "x, x.argmin(), x[x.argmin()]"
   ]
  },
  {
   "cell_type": "code",
   "execution_count": 233,
   "id": "1ad9bd55-58ad-4076-9994-760c2f21483c",
   "metadata": {},
   "outputs": [
    {
     "data": {
      "text/plain": [
       "(tensor([  0,  10,  20,  30,  40,  50,  60,  70,  80,  90, 100]),\n",
       " tensor(10),\n",
       " tensor(100))"
      ]
     },
     "execution_count": 233,
     "metadata": {},
     "output_type": "execute_result"
    }
   ],
   "source": [
    "x, x.argmax(), x[x.argmax()]"
   ]
  },
  {
   "cell_type": "markdown",
   "id": "1160c675-578d-4e51-84a0-9be48a6902e0",
   "metadata": {},
   "source": [
    "#### Reshaping, Stacking, Squeezing and Unsqueezing tensors\n",
    "\n",
    "* Reshaping - reshapes an input tensor to a defined shape\n",
    "* View - Return a View of an input tensor of certain shape but keep the same memory as the original tensor\n",
    "* Stacking - Combine multiple tensors on top of each other (vstack) or side by side (hstack)\n",
    "* Squeeze - removes all `1` dimensions from a tensor\n",
    "* Unsqueeze - add a `1` dimension to a target tensor\n",
    "* Permute - Return a view of the input with dimensions permuted (swapped) in a certain way."
   ]
  },
  {
   "cell_type": "code",
   "execution_count": 238,
   "id": "17005a06-0223-4312-8105-7a8d1c802a81",
   "metadata": {},
   "outputs": [
    {
     "data": {
      "text/plain": [
       "(tensor([ 1.,  2.,  3.,  4.,  5.,  6.,  7.,  8.,  9., 10.]), torch.Size([10]))"
      ]
     },
     "execution_count": 238,
     "metadata": {},
     "output_type": "execute_result"
    }
   ],
   "source": [
    "# Let's create a tensor \n",
    "x = torch.arange(1., 11.)\n",
    "x, x.shape"
   ]
  },
  {
   "cell_type": "code",
   "execution_count": 240,
   "id": "aa60ee1d-df57-43f4-89e6-0ed483b77abc",
   "metadata": {},
   "outputs": [
    {
     "data": {
      "text/plain": [
       "(tensor([[ 1.,  2.,  3.,  4.,  5.,  6.,  7.,  8.,  9., 10.]]),\n",
       " torch.Size([1, 10]))"
      ]
     },
     "execution_count": 240,
     "metadata": {},
     "output_type": "execute_result"
    }
   ],
   "source": [
    "# Add an extra dimension\n",
    "x_reshaped = x.reshape(1, 10)\n",
    "x_reshaped, x_reshaped.shape"
   ]
  },
  {
   "cell_type": "code",
   "execution_count": 242,
   "id": "feb370b0-8452-4a64-86e1-1c916a9ae468",
   "metadata": {},
   "outputs": [
    {
     "data": {
      "text/plain": [
       "(tensor([[ 1.,  2.,  3.,  4.,  5.,  6.,  7.,  8.,  9., 10.]]),\n",
       " torch.Size([1, 10]))"
      ]
     },
     "execution_count": 242,
     "metadata": {},
     "output_type": "execute_result"
    }
   ],
   "source": [
    "# Change the view - shares the memory with original tensor \n",
    "z = x.view(1, 10)\n",
    "z, z.shape"
   ]
  },
  {
   "cell_type": "code",
   "execution_count": 243,
   "id": "4ffde3a3-18cd-4ee6-97b1-ec273e130aa2",
   "metadata": {},
   "outputs": [
    {
     "data": {
      "text/plain": [
       "(tensor([[ 5.,  2.,  3.,  4.,  5.,  6.,  7.,  8.,  9., 10.]]),\n",
       " tensor([ 5.,  2.,  3.,  4.,  5.,  6.,  7.,  8.,  9., 10.]))"
      ]
     },
     "execution_count": 243,
     "metadata": {},
     "output_type": "execute_result"
    }
   ],
   "source": [
    "# Changing z changes x (because a view of a tensor shares the same memory as the original input)\n",
    "z[:, 0] = 5\n",
    "z, x"
   ]
  },
  {
   "cell_type": "code",
   "execution_count": 247,
   "id": "ed6cf3b9-03ed-4602-9d78-1df9c6e546ac",
   "metadata": {},
   "outputs": [
    {
     "data": {
      "text/plain": [
       "tensor([[ 5.,  2.,  3.,  4.,  5.,  6.,  7.,  8.,  9., 10.],\n",
       "        [ 5.,  2.,  3.,  4.,  5.,  6.,  7.,  8.,  9., 10.],\n",
       "        [ 5.,  2.,  3.,  4.,  5.,  6.,  7.,  8.,  9., 10.],\n",
       "        [ 5.,  2.,  3.,  4.,  5.,  6.,  7.,  8.,  9., 10.]])"
      ]
     },
     "execution_count": 247,
     "metadata": {},
     "output_type": "execute_result"
    }
   ],
   "source": [
    "# Stack tensors on top of each other\n",
    "x_stacked = torch.stack([x, x, x, x], dim=0)\n",
    "x_stacked"
   ]
  },
  {
   "cell_type": "code",
   "execution_count": 248,
   "id": "1705660d-0f6d-4dc9-a2d7-7b9f05efcd25",
   "metadata": {},
   "outputs": [
    {
     "data": {
      "text/plain": [
       "(tensor([[1, 2],\n",
       "         [3, 4]]),\n",
       " torch.Size([2, 2]))"
      ]
     },
     "execution_count": 248,
     "metadata": {},
     "output_type": "execute_result"
    }
   ],
   "source": [
    "# Experiment \n",
    "s = torch.tensor([[1,2],\n",
    "                 [3,4]])\n",
    "s, s.shape"
   ]
  },
  {
   "cell_type": "code",
   "execution_count": 250,
   "id": "246acaf6-6e0c-4f8c-88c4-f70fe902c2e4",
   "metadata": {},
   "outputs": [
    {
     "data": {
      "text/plain": [
       "tensor([[[1, 2],\n",
       "         [3, 4]],\n",
       "\n",
       "        [[1, 2],\n",
       "         [3, 4]],\n",
       "\n",
       "        [[1, 2],\n",
       "         [3, 4]]])"
      ]
     },
     "execution_count": 250,
     "metadata": {},
     "output_type": "execute_result"
    }
   ],
   "source": [
    "torch.stack([s,s, s], dim=0)"
   ]
  },
  {
   "cell_type": "code",
   "execution_count": 251,
   "id": "739a6666-2e32-40a6-836f-19eeac9df7fe",
   "metadata": {},
   "outputs": [
    {
     "data": {
      "text/plain": [
       "tensor([[[1, 2],\n",
       "         [1, 2],\n",
       "         [1, 2]],\n",
       "\n",
       "        [[3, 4],\n",
       "         [3, 4],\n",
       "         [3, 4]]])"
      ]
     },
     "execution_count": 251,
     "metadata": {},
     "output_type": "execute_result"
    }
   ],
   "source": [
    "torch.stack([s,s,s], dim=1)"
   ]
  },
  {
   "cell_type": "code",
   "execution_count": 254,
   "id": "b23e46b7-9fdd-414e-beb7-60256e1b07e0",
   "metadata": {},
   "outputs": [
    {
     "data": {
      "text/plain": [
       "(tensor([[[[[0., 0.]],\n",
       " \n",
       "           [[0., 0.]]]],\n",
       " \n",
       " \n",
       " \n",
       "         [[[[0., 0.]],\n",
       " \n",
       "           [[0., 0.]]]]]),\n",
       " torch.Size([2, 1, 2, 1, 2]))"
      ]
     },
     "execution_count": 254,
     "metadata": {},
     "output_type": "execute_result"
    }
   ],
   "source": [
    "# torch.squeeze() - removes all single dims from a target tensor.\n",
    "x = torch.zeros(2, 1, 2, 1, 2)\n",
    "x, x.shape"
   ]
  },
  {
   "cell_type": "code",
   "execution_count": 255,
   "id": "951bd337-1e36-4a7e-96dd-8e258327ba81",
   "metadata": {},
   "outputs": [
    {
     "data": {
      "text/plain": [
       "(tensor([[[0., 0.],\n",
       "          [0., 0.]],\n",
       " \n",
       "         [[0., 0.],\n",
       "          [0., 0.]]]),\n",
       " torch.Size([2, 2, 2]))"
      ]
     },
     "execution_count": 255,
     "metadata": {},
     "output_type": "execute_result"
    }
   ],
   "source": [
    "x_squeezed = x.squeeze()\n",
    "x_squeezed, x_squeezed.shape"
   ]
  },
  {
   "cell_type": "code",
   "execution_count": 257,
   "id": "3187efb4-9943-4665-94df-cbb2800f89a7",
   "metadata": {},
   "outputs": [
    {
     "data": {
      "text/plain": [
       "torch.Size([2, 1, 2, 1, 2])"
      ]
     },
     "execution_count": 257,
     "metadata": {},
     "output_type": "execute_result"
    }
   ],
   "source": [
    "y = torch.squeeze(x, 0)\n",
    "y.shape # unchanged because there is no 1 at dim 0"
   ]
  },
  {
   "cell_type": "code",
   "execution_count": 258,
   "id": "294307dd-0e44-4381-a405-f5f000deec16",
   "metadata": {},
   "outputs": [
    {
     "data": {
      "text/plain": [
       "torch.Size([2, 2, 1, 2])"
      ]
     },
     "execution_count": 258,
     "metadata": {},
     "output_type": "execute_result"
    }
   ],
   "source": [
    "z = torch.squeeze(x, 1)\n",
    "z.shape # 1st dim is removed"
   ]
  },
  {
   "cell_type": "code",
   "execution_count": 259,
   "id": "d9b13bfc-c0f7-4d0d-8ea4-5cf1a5958b6d",
   "metadata": {},
   "outputs": [
    {
     "data": {
      "text/plain": [
       "(tensor([[[[0., 0.]],\n",
       " \n",
       "          [[0., 0.]]],\n",
       " \n",
       " \n",
       "         [[[0., 0.]],\n",
       " \n",
       "          [[0., 0.]]]]),\n",
       " torch.Size([2, 2, 1, 2]))"
      ]
     },
     "execution_count": 259,
     "metadata": {},
     "output_type": "execute_result"
    }
   ],
   "source": [
    "# torch.unsqueeze() - adds a single dim to a target tensor at a specific dim.\n",
    "z, z.shape"
   ]
  },
  {
   "cell_type": "code",
   "execution_count": 263,
   "id": "c43c83c0-4f6b-4869-8d25-af76ceb22f90",
   "metadata": {},
   "outputs": [
    {
     "data": {
      "text/plain": [
       "torch.Size([1, 1, 2, 2, 1, 2, 1])"
      ]
     },
     "execution_count": 263,
     "metadata": {},
     "output_type": "execute_result"
    }
   ],
   "source": [
    "# let's add few single dimensions in z \n",
    "z.unsqueeze(0).unsqueeze(0).unsqueeze(-1).shape"
   ]
  },
  {
   "cell_type": "code",
   "execution_count": 285,
   "id": "12dce420-4397-4475-a7ba-bbae5d4fcce8",
   "metadata": {},
   "outputs": [
    {
     "name": "stdout",
     "output_type": "stream",
     "text": [
      "Previous shape: torch.Size([224, 224, 3])\n",
      "New shape: torch.Size([3, 224, 224])\n"
     ]
    }
   ],
   "source": [
    "# torch.permute - rearranges the dimensions of a target tensor in a specified order\n",
    "x_original = torch.rand(size=(224, 224, 3)) # [height, width, color_channels]\n",
    "\n",
    "# Permute the original tensor to rearrange the axis (or dim) order\n",
    "x_permuted = x_original.permute(2, 0, 1) # [color_channels, height, widht]\n",
    "\n",
    "print(f'Previous shape: {x_original.shape}')\n",
    "print(f'New shape: {x_permuted.shape}') # [color_channels, height, width]"
   ]
  },
  {
   "cell_type": "code",
   "execution_count": 289,
   "id": "d0770bfb-293e-4c5a-95a9-fe2080a6f22c",
   "metadata": {},
   "outputs": [
    {
     "data": {
      "text/plain": [
       "(tensor(0.9309), tensor(0.9309))"
      ]
     },
     "execution_count": 289,
     "metadata": {},
     "output_type": "execute_result"
    }
   ],
   "source": [
    "# but it returns a view means if x_permuted change , x_original changes too\n",
    "x_original[0,0,1], x_permuted[1,0,0]"
   ]
  },
  {
   "cell_type": "code",
   "execution_count": 291,
   "id": "1273536b-3415-4659-b7d4-e5e5c548d755",
   "metadata": {},
   "outputs": [
    {
     "name": "stdout",
     "output_type": "stream",
     "text": [
      "tensor(123.4560)\n"
     ]
    }
   ],
   "source": [
    "x_permuted[1, 0, 0] = 123.456  \n",
    "print(x_original[0, 0, 1]) # item changes in original too wooh.."
   ]
  },
  {
   "cell_type": "markdown",
   "id": "00cc571f-dd69-4dc1-a832-4f6e54e8c4cb",
   "metadata": {},
   "source": [
    "#### Indexing (selecting data from tensors)\n",
    "\n",
    "Indexing with PyTorch is similar to indexing with Numpy."
   ]
  },
  {
   "cell_type": "code",
   "execution_count": 293,
   "id": "85334788-60a1-4cce-8388-832b5334db83",
   "metadata": {},
   "outputs": [
    {
     "data": {
      "text/plain": [
       "(tensor([[[1, 2, 3],\n",
       "          [4, 5, 6],\n",
       "          [7, 8, 9]]]),\n",
       " torch.Size([1, 3, 3]))"
      ]
     },
     "execution_count": 293,
     "metadata": {},
     "output_type": "execute_result"
    }
   ],
   "source": [
    "# Create a tensor\n",
    "import torch \n",
    "x = torch.arange(1, 10).reshape(1, 3, 3)\n",
    "x, x.shape\n"
   ]
  },
  {
   "cell_type": "code",
   "execution_count": 294,
   "id": "a356a57b-11af-4916-b409-ef31fca736ee",
   "metadata": {},
   "outputs": [
    {
     "data": {
      "text/plain": [
       "tensor([[1, 2, 3],\n",
       "        [4, 5, 6],\n",
       "        [7, 8, 9]])"
      ]
     },
     "execution_count": 294,
     "metadata": {},
     "output_type": "execute_result"
    }
   ],
   "source": [
    "# Let's index on our new tensor \n",
    "x[0]"
   ]
  },
  {
   "cell_type": "code",
   "execution_count": 295,
   "id": "93f12f93-f210-415a-9e7d-020341f70e92",
   "metadata": {},
   "outputs": [
    {
     "data": {
      "text/plain": [
       "tensor([1, 2, 3])"
      ]
     },
     "execution_count": 295,
     "metadata": {},
     "output_type": "execute_result"
    }
   ],
   "source": [
    "# Let's index on the middle bracket (dim = 1)\n",
    "x[0,0]"
   ]
  },
  {
   "cell_type": "code",
   "execution_count": 296,
   "id": "c31eb5f1-9ae2-49aa-afe6-5ada35457f7e",
   "metadata": {},
   "outputs": [
    {
     "data": {
      "text/plain": [
       "tensor(1)"
      ]
     },
     "execution_count": 296,
     "metadata": {},
     "output_type": "execute_result"
    }
   ],
   "source": [
    "# let's index on the most inner bracket (last dimension)\n",
    "x[0, 0, 0]"
   ]
  },
  {
   "cell_type": "code",
   "execution_count": 297,
   "id": "65390743-acb2-4182-beed-73bfd1f6872d",
   "metadata": {},
   "outputs": [
    {
     "data": {
      "text/plain": [
       "tensor(9)"
      ]
     },
     "execution_count": 297,
     "metadata": {},
     "output_type": "execute_result"
    }
   ],
   "source": [
    "x[0,2,2]"
   ]
  },
  {
   "cell_type": "code",
   "execution_count": 298,
   "id": "8ce098d3-1316-4688-b11d-7957361809e7",
   "metadata": {},
   "outputs": [
    {
     "data": {
      "text/plain": [
       "tensor([[1, 2, 3]])"
      ]
     },
     "execution_count": 298,
     "metadata": {},
     "output_type": "execute_result"
    }
   ],
   "source": [
    "# You can also use ':' to select 'all' of a target dimension\n",
    "x[:, 0]"
   ]
  },
  {
   "cell_type": "code",
   "execution_count": 299,
   "id": "1e8afc16-c872-4693-8a1a-05f86fcbe2e4",
   "metadata": {},
   "outputs": [
    {
     "data": {
      "text/plain": [
       "tensor([[2, 5, 8]])"
      ]
     },
     "execution_count": 299,
     "metadata": {},
     "output_type": "execute_result"
    }
   ],
   "source": [
    "# Get all values of 0th and 1st dimensions but only index 1 of 2nd dimension\n",
    "x[:, :, 1]"
   ]
  },
  {
   "cell_type": "code",
   "execution_count": 300,
   "id": "4d32213a-4fa8-405c-afa2-a195ebdfd52a",
   "metadata": {},
   "outputs": [
    {
     "data": {
      "text/plain": [
       "tensor([5])"
      ]
     },
     "execution_count": 300,
     "metadata": {},
     "output_type": "execute_result"
    }
   ],
   "source": [
    "# Get all values of the 0th dim but only 1 index value of 1st and 2nd dim\n",
    "x[:, 1, 1]"
   ]
  },
  {
   "cell_type": "code",
   "execution_count": 301,
   "id": "ae9f7369-ed7a-4164-bdfd-7407e86ac5a6",
   "metadata": {},
   "outputs": [
    {
     "data": {
      "text/plain": [
       "tensor([1, 2, 3])"
      ]
     },
     "execution_count": 301,
     "metadata": {},
     "output_type": "execute_result"
    }
   ],
   "source": [
    "# Get index 0 of oth and 1st dim and all values of 2nd dim\n",
    "x[0,0,:]"
   ]
  },
  {
   "cell_type": "code",
   "execution_count": 302,
   "id": "6a3b4b80-a7c8-4c4f-adee-9e3cd4f4a647",
   "metadata": {},
   "outputs": [
    {
     "data": {
      "text/plain": [
       "tensor([[3, 6, 9]])"
      ]
     },
     "execution_count": 302,
     "metadata": {},
     "output_type": "execute_result"
    }
   ],
   "source": [
    "# Index on x to return 3, 6 ,9\n",
    "x[:, :, 2]"
   ]
  },
  {
   "cell_type": "markdown",
   "id": "fe11b731-fcbe-492b-a21c-30c6f918f887",
   "metadata": {},
   "source": [
    "#### Pytorch tensors and Numpy\n",
    "\n",
    "Numpy is a popular scientific Python numerical computing library.\n",
    "\n",
    "And because of this, PyTorch has functionality to interact with it.\n",
    "\n",
    "* Data in NumPy, want in PyTorch tensor -> `torch.from_numpy(ndarray)`\n",
    "* PyTorch tensor -> NumPy -> `torch.Tensor.numpy()`"
   ]
  },
  {
   "cell_type": "code",
   "execution_count": 304,
   "id": "7614165b-6fa9-4eb6-adbf-ec5b75fe5964",
   "metadata": {},
   "outputs": [
    {
     "data": {
      "text/plain": [
       "(array([1., 2., 3., 4., 5., 6., 7.]),\n",
       " tensor([1., 2., 3., 4., 5., 6., 7.], dtype=torch.float64))"
      ]
     },
     "execution_count": 304,
     "metadata": {},
     "output_type": "execute_result"
    }
   ],
   "source": [
    "# Numpy array to tensor \n",
    "import numpy as np \n",
    "\n",
    "array = np.arange(1.0, 8.0) # default dtype is float64\n",
    "tensor = torch.from_numpy(array) # Warning: when converting from numpy -> , pytorch reflects numpy's default datatype of float64 unless specified otherwise\n",
    "array, tensor"
   ]
  },
  {
   "cell_type": "code",
   "execution_count": 305,
   "id": "5c45c636-94cb-4bb8-88bd-e789c96cd137",
   "metadata": {},
   "outputs": [
    {
     "data": {
      "text/plain": [
       "dtype('float64')"
      ]
     },
     "execution_count": 305,
     "metadata": {},
     "output_type": "execute_result"
    }
   ],
   "source": [
    "array.dtype"
   ]
  },
  {
   "cell_type": "code",
   "execution_count": 306,
   "id": "01340619-859a-4b0e-bd7d-f314ff94f0fd",
   "metadata": {},
   "outputs": [
    {
     "data": {
      "text/plain": [
       "torch.float64"
      ]
     },
     "execution_count": 306,
     "metadata": {},
     "output_type": "execute_result"
    }
   ],
   "source": [
    "tensor.dtype"
   ]
  },
  {
   "cell_type": "code",
   "execution_count": 309,
   "id": "35992bf3-26ec-4e42-b589-3e60dd374f58",
   "metadata": {},
   "outputs": [
    {
     "data": {
      "text/plain": [
       "(array([ 4.,  5.,  6.,  7.,  8.,  9., 10.]),\n",
       " tensor([1., 2., 3., 4., 5., 6., 7.], dtype=torch.float64))"
      ]
     },
     "execution_count": 309,
     "metadata": {},
     "output_type": "execute_result"
    }
   ],
   "source": [
    "# let's try to change the value of array \n",
    "array = array + 1 \n",
    "array , tensor # so from_numpy is not the view operation"
   ]
  },
  {
   "cell_type": "code",
   "execution_count": 310,
   "id": "905c66ba-a56c-4e9c-9240-7f655ed2dfd9",
   "metadata": {},
   "outputs": [
    {
     "data": {
      "text/plain": [
       "(tensor([1., 1., 1., 1., 1., 1., 1.]),\n",
       " array([1., 1., 1., 1., 1., 1., 1.], dtype=float32))"
      ]
     },
     "execution_count": 310,
     "metadata": {},
     "output_type": "execute_result"
    }
   ],
   "source": [
    "# Tensor to Numpy array\n",
    "tensor = torch.ones(7)\n",
    "numpy_tensor = tensor.numpy()\n",
    "tensor, numpy_tensor"
   ]
  },
  {
   "cell_type": "code",
   "execution_count": 312,
   "id": "b93529ba-c567-4494-9679-ff6f63ead9ea",
   "metadata": {},
   "outputs": [
    {
     "data": {
      "text/plain": [
       "(tensor([3., 3., 3., 3., 3., 3., 3.]),\n",
       " array([1., 1., 1., 1., 1., 1., 1.], dtype=float32))"
      ]
     },
     "execution_count": 312,
     "metadata": {},
     "output_type": "execute_result"
    }
   ],
   "source": [
    "# Change the tensor, what happens to `numpy_tensor`?\n",
    "tensor = tensor + 1 \n",
    "tensor, numpy_tensor # Not a view operation"
   ]
  },
  {
   "cell_type": "markdown",
   "id": "3d835811-7195-4261-9b5f-dd1546987a0e",
   "metadata": {},
   "source": [
    "#### Reproducibility (trying to take random out of random)\n",
    "\n",
    "In short how a neural network learns:\n",
    "\n",
    "`start with random numbers -> tensor operations -> update random numbers to try and make them better representations of the data -> again -> again -> again...`\n",
    "\n",
    "To reduce the randomness in neural networks and PyTorch comes the concept of a **random_seed**.\n",
    "\n",
    "Essentially what the random seed does is 'flavour' the randomness."
   ]
  },
  {
   "cell_type": "code",
   "execution_count": 322,
   "id": "69e00887-75a3-46a5-aa69-cb66258e1ec2",
   "metadata": {},
   "outputs": [
    {
     "name": "stdout",
     "output_type": "stream",
     "text": [
      "tensor([[0.3941, 0.0059, 0.5063, 0.7970],\n",
      "        [0.1988, 0.5988, 0.2255, 0.6816],\n",
      "        [0.2129, 0.0949, 0.6584, 0.2888]])\n",
      "tensor([[0.7482, 0.7011, 0.1483, 0.6206],\n",
      "        [0.1530, 0.0554, 0.5820, 0.5016],\n",
      "        [0.6014, 0.8020, 0.5826, 0.8997]])\n",
      "tensor([[False, False, False, False],\n",
      "        [False, False, False, False],\n",
      "        [False, False, False, False]])\n"
     ]
    }
   ],
   "source": [
    "import torch \n",
    "\n",
    "# Create two random tensors\n",
    "random_tensor_A = torch.rand(3,4)\n",
    "random_tensor_B = torch.rand(3,4)\n",
    "\n",
    "print(random_tensor_A)\n",
    "print(random_tensor_B)\n",
    "print(random_tensor_A == random_tensor_B)"
   ]
  },
  {
   "cell_type": "code",
   "execution_count": 325,
   "id": "3f767287-56f7-4c47-8145-0c822e21a972",
   "metadata": {},
   "outputs": [
    {
     "name": "stdout",
     "output_type": "stream",
     "text": [
      "tensor([[0.8823, 0.9150, 0.3829, 0.9593],\n",
      "        [0.3904, 0.6009, 0.2566, 0.7936],\n",
      "        [0.9408, 0.1332, 0.9346, 0.5936]])\n",
      "tensor([[0.8823, 0.9150, 0.3829, 0.9593],\n",
      "        [0.3904, 0.6009, 0.2566, 0.7936],\n",
      "        [0.9408, 0.1332, 0.9346, 0.5936]])\n",
      "tensor([[True, True, True, True],\n",
      "        [True, True, True, True],\n",
      "        [True, True, True, True]])\n"
     ]
    }
   ],
   "source": [
    "# Let's make some random but reproducible tensors \n",
    "\n",
    "# Set the random seed\n",
    "RANDOM_SEED = 42\n",
    "torch.manual_seed(RANDOM_SEED)\n",
    "\n",
    "random_tensor_C = torch.rand(3, 4)\n",
    "\n",
    "torch.manual_seed(RANDOM_SEED)\n",
    "random_tensor_D = torch.rand(3, 4)\n",
    "\n",
    "print(random_tensor_C)\n",
    "print(random_tensor_D)\n",
    "print(random_tensor_C == random_tensor_D)"
   ]
  },
  {
   "cell_type": "markdown",
   "id": "8cbca0bb-a081-49be-b4ac-1ee88da5d538",
   "metadata": {},
   "source": [
    "#### Running tensors and PyTorch objects on the GPU's (and making faster computations)\n",
    "\n",
    "GPUs = faster computation on numbers, thanks to CUDA + NVIDIA hardware + Pytorch working behind the scenes."
   ]
  },
  {
   "cell_type": "markdown",
   "id": "21191bb0-7529-457d-b1fb-9b0ccf30af86",
   "metadata": {},
   "source": [
    "#### Check for GPU access with PyTorch"
   ]
  },
  {
   "cell_type": "code",
   "execution_count": 326,
   "id": "af1d407a-35ac-4243-b069-d5ca7c3f6584",
   "metadata": {},
   "outputs": [
    {
     "data": {
      "text/plain": [
       "True"
      ]
     },
     "execution_count": 326,
     "metadata": {},
     "output_type": "execute_result"
    }
   ],
   "source": [
    "# Check for GPU access with PyTorch\n",
    "import torch \n",
    "torch.cuda.is_available()"
   ]
  },
  {
   "cell_type": "code",
   "execution_count": 327,
   "id": "959e65d9-c0ea-4cba-a6c3-181c74a43929",
   "metadata": {},
   "outputs": [
    {
     "data": {
      "text/plain": [
       "'cuda'"
      ]
     },
     "execution_count": 327,
     "metadata": {},
     "output_type": "execute_result"
    }
   ],
   "source": [
    "# Setup device agnoistic code\n",
    "device = 'cuda' if torch.cuda.is_available() else 'cpu'\n",
    "device"
   ]
  },
  {
   "cell_type": "code",
   "execution_count": 329,
   "id": "186dd73a-c346-4914-bd40-9fa482fac1c8",
   "metadata": {},
   "outputs": [
    {
     "data": {
      "text/plain": [
       "1"
      ]
     },
     "execution_count": 329,
     "metadata": {},
     "output_type": "execute_result"
    }
   ],
   "source": [
    "# Count the number of GPU's\n",
    "torch.cuda.device_count()"
   ]
  },
  {
   "cell_type": "markdown",
   "id": "1023607f-a039-4ea4-9b40-31b33e660a03",
   "metadata": {},
   "source": [
    "For PyTorch since it's capable of running compute on the GPU or CPU, it's best practice to setup device agnostic code:\n",
    "Eg. run on GPU if availabel, else default to CPU"
   ]
  },
  {
   "cell_type": "markdown",
   "id": "a50535f3-ffa6-4aff-82a2-fbf55b869be0",
   "metadata": {},
   "source": [
    "#### Putting tensor (and models) on the GPU\n",
    "\n",
    "The reason we want our tensors/models on the GPU is because using a GPU results in faster computations."
   ]
  },
  {
   "cell_type": "code",
   "execution_count": 331,
   "id": "edd46704-24ef-46e7-a6cc-452762d85da1",
   "metadata": {},
   "outputs": [
    {
     "name": "stdout",
     "output_type": "stream",
     "text": [
      "tensor([1, 2, 3]) cpu\n"
     ]
    }
   ],
   "source": [
    "# Create a tensor (default on the CPU)\n",
    "tensor = torch.tensor([1,2,3], device='cpu')\n",
    "\n",
    "# Tensor not on GPU\n",
    "print(tensor, tensor.device)"
   ]
  },
  {
   "cell_type": "code",
   "execution_count": 332,
   "id": "bcfe5ef9-c29f-419d-9e04-e7d8a4c0c849",
   "metadata": {},
   "outputs": [
    {
     "data": {
      "text/plain": [
       "tensor([1, 2, 3], device='cuda:0')"
      ]
     },
     "execution_count": 332,
     "metadata": {},
     "output_type": "execute_result"
    }
   ],
   "source": [
    "# Move tensor to GPU (if available)\n",
    "tensor_on_gpu = tensor.to(device)\n",
    "tensor_on_gpu"
   ]
  },
  {
   "cell_type": "markdown",
   "id": "71553ea8-9275-46f9-bba7-c8984d641141",
   "metadata": {},
   "source": [
    "#### Moving tensor back to the CPU"
   ]
  },
  {
   "cell_type": "code",
   "execution_count": 333,
   "id": "ef111d31-fb8c-4d71-b331-13c9e533c644",
   "metadata": {},
   "outputs": [
    {
     "ename": "TypeError",
     "evalue": "can't convert cuda:0 device type tensor to numpy. Use Tensor.cpu() to copy the tensor to host memory first.",
     "output_type": "error",
     "traceback": [
      "\u001b[1;31m---------------------------------------------------------------------------\u001b[0m",
      "\u001b[1;31mTypeError\u001b[0m                                 Traceback (most recent call last)",
      "Cell \u001b[1;32mIn[333], line 2\u001b[0m\n\u001b[0;32m      1\u001b[0m \u001b[38;5;66;03m# If tensor is on GPU, can't transform it to Numpy let's see\u001b[39;00m\n\u001b[1;32m----> 2\u001b[0m \u001b[43mtensor_on_gpu\u001b[49m\u001b[38;5;241;43m.\u001b[39;49m\u001b[43mnumpy\u001b[49m\u001b[43m(\u001b[49m\u001b[43m)\u001b[49m\n",
      "\u001b[1;31mTypeError\u001b[0m: can't convert cuda:0 device type tensor to numpy. Use Tensor.cpu() to copy the tensor to host memory first."
     ]
    }
   ],
   "source": [
    "# If tensor is on GPU, can't transform it to Numpy let's see\n",
    "tensor_on_gpu.numpy()"
   ]
  },
  {
   "cell_type": "code",
   "execution_count": 334,
   "id": "f7c4011c-9c34-4764-9782-b4e91e82c1d7",
   "metadata": {},
   "outputs": [
    {
     "data": {
      "text/plain": [
       "tensor([1, 2, 3])"
      ]
     },
     "execution_count": 334,
     "metadata": {},
     "output_type": "execute_result"
    }
   ],
   "source": [
    "# To fix the GPU tensor with Numpy issue, we can first set it to the CPU\n",
    "tensor_back_on_cpu = tensor_on_gpu.cpu()\n",
    "tensor_back_on_cpu"
   ]
  },
  {
   "cell_type": "code",
   "execution_count": 335,
   "id": "b7217f39-5cc5-4a2b-9a65-7975d637f3bf",
   "metadata": {},
   "outputs": [
    {
     "data": {
      "text/plain": [
       "array([1, 2, 3])"
      ]
     },
     "execution_count": 335,
     "metadata": {},
     "output_type": "execute_result"
    }
   ],
   "source": [
    "tensor_back_on_cpu.numpy()"
   ]
  },
  {
   "cell_type": "code",
   "execution_count": null,
   "id": "88eb44dd-8fa2-4bf9-b22b-9b7c33c785c8",
   "metadata": {},
   "outputs": [],
   "source": []
  }
 ],
 "metadata": {
  "kernelspec": {
   "display_name": "Python [conda env:torch_gpu_env]",
   "language": "python",
   "name": "conda-env-torch_gpu_env-py"
  },
  "language_info": {
   "codemirror_mode": {
    "name": "ipython",
    "version": 3
   },
   "file_extension": ".py",
   "mimetype": "text/x-python",
   "name": "python",
   "nbconvert_exporter": "python",
   "pygments_lexer": "ipython3",
   "version": "3.10.16"
  }
 },
 "nbformat": 4,
 "nbformat_minor": 5
}
